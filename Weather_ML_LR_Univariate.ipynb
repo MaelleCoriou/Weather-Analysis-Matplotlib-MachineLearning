{
  "nbformat": 4,
  "nbformat_minor": 0,
  "metadata": {
    "colab": {
      "name": "Linear regression - 1 - Univariate - Maëlle.ipynb",
      "provenance": [],
      "collapsed_sections": []
    },
    "kernelspec": {
      "name": "python3",
      "display_name": "Python 3"
    }
  },
  "cells": [
    {
      "cell_type": "markdown",
      "metadata": {
        "id": "7RZbCjBZBNKL"
      },
      "source": [
        "# Weather Linear Regression - SkLearn"
      ]
    },
    {
      "cell_type": "code",
      "metadata": {
        "id": "ih5VsCSsAGWK"
      },
      "source": [
        "import matplotlib.pyplot as plt\n",
        "import pandas as pd\n",
        "import numpy as np\n",
        "import seaborn as sns\n",
        "plt.rcParams[\"figure.figsize\"] = (10,5) # parametre de taille des graphs\n",
        "link = \"https://raw.githubusercontent.com/murpi/wilddata/master/quests/weather2019.csv\"\n",
        "df_weather = pd.read_csv(link)\n",
        "df_weather = df_weather.iloc[:,[0,1,2, -4]]"
      ],
      "execution_count": null,
      "outputs": []
    },
    {
      "cell_type": "code",
      "source": [
        "df_weather.head(2)"
      ],
      "metadata": {
        "colab": {
          "base_uri": "https://localhost:8080/",
          "height": 112
        },
        "id": "ZOXSr_76b3XK",
        "outputId": "9f2ae87c-1809-4f6c-b9f6-46e281caf30b"
      },
      "execution_count": null,
      "outputs": [
        {
          "output_type": "execute_result",
          "data": {
            "text/html": [
              "\n",
              "  <div id=\"df-1fd96267-f466-4a8d-9ddd-2fcebebccdbb\">\n",
              "    <div class=\"colab-df-container\">\n",
              "      <div>\n",
              "<style scoped>\n",
              "    .dataframe tbody tr th:only-of-type {\n",
              "        vertical-align: middle;\n",
              "    }\n",
              "\n",
              "    .dataframe tbody tr th {\n",
              "        vertical-align: top;\n",
              "    }\n",
              "\n",
              "    .dataframe thead th {\n",
              "        text-align: right;\n",
              "    }\n",
              "</style>\n",
              "<table border=\"1\" class=\"dataframe\">\n",
              "  <thead>\n",
              "    <tr style=\"text-align: right;\">\n",
              "      <th></th>\n",
              "      <th>DATE</th>\n",
              "      <th>MAX_TEMPERATURE_C</th>\n",
              "      <th>MIN_TEMPERATURE_C</th>\n",
              "      <th>SUNHOUR</th>\n",
              "    </tr>\n",
              "  </thead>\n",
              "  <tbody>\n",
              "    <tr>\n",
              "      <th>0</th>\n",
              "      <td>2019-01-01</td>\n",
              "      <td>9</td>\n",
              "      <td>4</td>\n",
              "      <td>5.1</td>\n",
              "    </tr>\n",
              "    <tr>\n",
              "      <th>1</th>\n",
              "      <td>2019-01-02</td>\n",
              "      <td>8</td>\n",
              "      <td>5</td>\n",
              "      <td>8.7</td>\n",
              "    </tr>\n",
              "  </tbody>\n",
              "</table>\n",
              "</div>\n",
              "      <button class=\"colab-df-convert\" onclick=\"convertToInteractive('df-1fd96267-f466-4a8d-9ddd-2fcebebccdbb')\"\n",
              "              title=\"Convert this dataframe to an interactive table.\"\n",
              "              style=\"display:none;\">\n",
              "        \n",
              "  <svg xmlns=\"http://www.w3.org/2000/svg\" height=\"24px\"viewBox=\"0 0 24 24\"\n",
              "       width=\"24px\">\n",
              "    <path d=\"M0 0h24v24H0V0z\" fill=\"none\"/>\n",
              "    <path d=\"M18.56 5.44l.94 2.06.94-2.06 2.06-.94-2.06-.94-.94-2.06-.94 2.06-2.06.94zm-11 1L8.5 8.5l.94-2.06 2.06-.94-2.06-.94L8.5 2.5l-.94 2.06-2.06.94zm10 10l.94 2.06.94-2.06 2.06-.94-2.06-.94-.94-2.06-.94 2.06-2.06.94z\"/><path d=\"M17.41 7.96l-1.37-1.37c-.4-.4-.92-.59-1.43-.59-.52 0-1.04.2-1.43.59L10.3 9.45l-7.72 7.72c-.78.78-.78 2.05 0 2.83L4 21.41c.39.39.9.59 1.41.59.51 0 1.02-.2 1.41-.59l7.78-7.78 2.81-2.81c.8-.78.8-2.07 0-2.86zM5.41 20L4 18.59l7.72-7.72 1.47 1.35L5.41 20z\"/>\n",
              "  </svg>\n",
              "      </button>\n",
              "      \n",
              "  <style>\n",
              "    .colab-df-container {\n",
              "      display:flex;\n",
              "      flex-wrap:wrap;\n",
              "      gap: 12px;\n",
              "    }\n",
              "\n",
              "    .colab-df-convert {\n",
              "      background-color: #E8F0FE;\n",
              "      border: none;\n",
              "      border-radius: 50%;\n",
              "      cursor: pointer;\n",
              "      display: none;\n",
              "      fill: #1967D2;\n",
              "      height: 32px;\n",
              "      padding: 0 0 0 0;\n",
              "      width: 32px;\n",
              "    }\n",
              "\n",
              "    .colab-df-convert:hover {\n",
              "      background-color: #E2EBFA;\n",
              "      box-shadow: 0px 1px 2px rgba(60, 64, 67, 0.3), 0px 1px 3px 1px rgba(60, 64, 67, 0.15);\n",
              "      fill: #174EA6;\n",
              "    }\n",
              "\n",
              "    [theme=dark] .colab-df-convert {\n",
              "      background-color: #3B4455;\n",
              "      fill: #D2E3FC;\n",
              "    }\n",
              "\n",
              "    [theme=dark] .colab-df-convert:hover {\n",
              "      background-color: #434B5C;\n",
              "      box-shadow: 0px 1px 3px 1px rgba(0, 0, 0, 0.15);\n",
              "      filter: drop-shadow(0px 1px 2px rgba(0, 0, 0, 0.3));\n",
              "      fill: #FFFFFF;\n",
              "    }\n",
              "  </style>\n",
              "\n",
              "      <script>\n",
              "        const buttonEl =\n",
              "          document.querySelector('#df-1fd96267-f466-4a8d-9ddd-2fcebebccdbb button.colab-df-convert');\n",
              "        buttonEl.style.display =\n",
              "          google.colab.kernel.accessAllowed ? 'block' : 'none';\n",
              "\n",
              "        async function convertToInteractive(key) {\n",
              "          const element = document.querySelector('#df-1fd96267-f466-4a8d-9ddd-2fcebebccdbb');\n",
              "          const dataTable =\n",
              "            await google.colab.kernel.invokeFunction('convertToInteractive',\n",
              "                                                     [key], {});\n",
              "          if (!dataTable) return;\n",
              "\n",
              "          const docLinkHtml = 'Like what you see? Visit the ' +\n",
              "            '<a target=\"_blank\" href=https://colab.research.google.com/notebooks/data_table.ipynb>data table notebook</a>'\n",
              "            + ' to learn more about interactive tables.';\n",
              "          element.innerHTML = '';\n",
              "          dataTable['output_type'] = 'display_data';\n",
              "          await google.colab.output.renderOutput(dataTable, element);\n",
              "          const docLink = document.createElement('div');\n",
              "          docLink.innerHTML = docLinkHtml;\n",
              "          element.appendChild(docLink);\n",
              "        }\n",
              "      </script>\n",
              "    </div>\n",
              "  </div>\n",
              "  "
            ],
            "text/plain": [
              "         DATE  MAX_TEMPERATURE_C  MIN_TEMPERATURE_C  SUNHOUR\n",
              "0  2019-01-01                  9                  4      5.1\n",
              "1  2019-01-02                  8                  5      8.7"
            ]
          },
          "metadata": {},
          "execution_count": 3
        }
      ]
    },
    {
      "cell_type": "markdown",
      "metadata": {
        "id": "HDfmi_gNBRd3"
      },
      "source": [
        "# Univariate linear regression with Scikit-Learn"
      ]
    },
    {
      "cell_type": "markdown",
      "metadata": {
        "id": "QhC4gFT2BVh1"
      },
      "source": [
        "Scikit-Learn is the greatest Machine Learning library for Python. Do you remember that you can do Linear regression with NumPy ? You can do the same with Scikit-Learn. And many other things!\n",
        "Let's start with univariate Linear regression, to learn the syntax."
      ]
    },
    {
      "cell_type": "markdown",
      "metadata": {
        "id": "sqL95QpaCTtI"
      },
      "source": [
        "## Print a regplot with seaborn to show a linear regression between Sunhours (on the X-axis) and MAX temperature (on the Y-axis)."
      ]
    },
    {
      "cell_type": "code",
      "metadata": {
        "id": "rGg7wuwaBUGl",
        "colab": {
          "base_uri": "https://localhost:8080/",
          "height": 334
        },
        "outputId": "dbdc0ba3-1958-430c-89d8-564bd9aad899"
      },
      "source": [
        "# Your code here :\n",
        "sns.regplot(x=\"SUNHOUR\", y=\"MAX_TEMPERATURE_C\", data=df_weather)\n",
        "plt.show()"
      ],
      "execution_count": null,
      "outputs": [
        {
          "output_type": "display_data",
          "data": {
            "image/png": "[encoded data removed]",
            "text/plain": [
              "<Figure size 720x360 with 1 Axes>"
            ]
          },
          "metadata": {
            "needs_background": "light"
          }
        }
      ]
    },
    {
      "cell_type": "markdown",
      "metadata": {
        "id": "7Qnmc8HJEgSh"
      },
      "source": [
        "## Train the model\n",
        "You just have to read and execute the code below"
      ]
    },
    {
      "cell_type": "code",
      "metadata": {
        "id": "txQAv7N7C-rv"
      },
      "source": [
        "# Scikit-Learn can find the coefficients of the linear regression\n",
        "from sklearn.linear_model import LinearRegression\n",
        "\n",
        "# First of all, you have to define 2 series :\n",
        "# X-axis : the correlated column, here it is Sunhours\n",
        "X = df_weather[['SUNHOUR']] \n",
        "\n",
        "# Y-axis : the column to predict, so MAX Temperature here\n",
        "y = df_weather['MAX_TEMPERATURE_C'] \n",
        "\n",
        "# Hey, why is \"X\" in uppercase and \"y\" in lowercase ? That's a good point, we'll see that in the next quest. Now, you just have to use this.\n",
        "\n",
        "# To train a machine learning model (here, it will find the equation of the linear regression), you just have launch the \".fit\" method.\n",
        "modelLR = LinearRegression().fit(X, y)"
      ],
      "execution_count": null,
      "outputs": []
    },
    {
      "cell_type": "markdown",
      "metadata": {
        "id": "yGHuorx4EiWD"
      },
      "source": [
        "## Explore the model"
      ]
    },
    {
      "cell_type": "code",
      "metadata": {
        "id": "dIWLEntIDjp4",
        "colab": {
          "base_uri": "https://localhost:8080/"
        },
        "outputId": "142b76af-3e08-4c34-c175-6ffde0a447e4"
      },
      "source": [
        "# Your model is trained, it has now some attributes.\n",
        "# Coefficient, it's the \"a\" in your equation \"aX + b\"\n",
        "print(\"coefficient :\",modelLR.coef_)\n",
        "\n",
        "# Interception, it's the \"b\" in your equation \"aX + b\"\n",
        "print(\"intercept :\", modelLR.intercept_)\n"
      ],
      "execution_count": null,
      "outputs": [
        {
          "output_type": "stream",
          "name": "stdout",
          "text": [
            "coefficient : [1.28422116]\n",
            "intercept : 4.8472953557195435\n"
          ]
        }
      ]
    },
    {
      "cell_type": "markdown",
      "metadata": {
        "id": "EY3uNopEGtOQ"
      },
      "source": [
        "## Prediction for 1 value"
      ]
    },
    {
      "cell_type": "code",
      "metadata": {
        "id": "gzNPxyTNFKAb",
        "colab": {
          "base_uri": "https://localhost:8080/"
        },
        "outputId": "4b6ae16b-129a-483d-9371-fcbb0a2b87eb"
      },
      "source": [
        "# You can \"predict\" the Max Temperature from the Sunhours\n",
        "# For example, let's try if Sunhours is 10 :\n",
        "\n",
        "# Hand calculation :\n",
        "print(\"By hand :\", modelLR.coef_ * 10 + modelLR.intercept_ )\n",
        "\n",
        "# With a Scikit-Learn function :\n",
        "print(\"Scikit-Learn :  \", modelLR.predict([[10]]))"
      ],
      "execution_count": null,
      "outputs": [
        {
          "output_type": "stream",
          "name": "stdout",
          "text": [
            "By hand : [17.68950691]\n",
            "Scikit-Learn :   [17.68950691]\n"
          ]
        },
        {
          "output_type": "stream",
          "name": "stderr",
          "text": [
            "/usr/local/lib/python3.7/dist-packages/sklearn/base.py:451: UserWarning: X does not have valid feature names, but LinearRegression was fitted with feature names\n",
            "  \"X does not have valid feature names, but\"\n"
          ]
        }
      ]
    },
    {
      "cell_type": "markdown",
      "metadata": {
        "id": "bXvhV9DPH9iH"
      },
      "source": [
        "## Predictions for multiple values (a Serie)\n",
        "Let's predict MAX temperature for the Sunhour column of your DataFrame.\n",
        "\n",
        "Note : You'll have to precise your column with double \"[\", like that  : df[['your_column]] \n",
        "\n",
        "*Why ? We'll see that in the next quest.*"
      ]
    },
    {
      "cell_type": "code",
      "metadata": {
        "id": "4J79U7rcHwpz",
        "colab": {
          "base_uri": "https://localhost:8080/",
          "height": 129
        },
        "outputId": "e636a355-0dca-484a-eb36-59ccef9fb76e"
      },
      "source": [
        "# Find a way to store the result of the prediction in a new column 'predict\" of the dataframe\n",
        "predict_temp = pd.DataFrame(modelLR.predict(df_weather[['SUNHOUR']]), columns=[\"TEMP_MAX_PREDICT\"])\n",
        "# df_weather[\"PREDICTION_MAX_TEMP\"] = modelLR.predict(df_weather[['SUNHOUR']])\n",
        "\n",
        "print(\"check diff nb lignes\", len(predict_temp) - len(df_weather))\n",
        "predict_temp.head(2)"
      ],
      "execution_count": null,
      "outputs": [
        {
          "output_type": "stream",
          "name": "stdout",
          "text": [
            "check diff nb lignes 0\n"
          ]
        },
        {
          "output_type": "execute_result",
          "data": {
            "text/html": [
              "\n",
              "  <div id=\"df-a3f7bcd0-e71c-4c1c-baec-a74f0b713a52\">\n",
              "    <div class=\"colab-df-container\">\n",
              "      <div>\n",
              "<style scoped>\n",
              "    .dataframe tbody tr th:only-of-type {\n",
              "        vertical-align: middle;\n",
              "    }\n",
              "\n",
              "    .dataframe tbody tr th {\n",
              "        vertical-align: top;\n",
              "    }\n",
              "\n",
              "    .dataframe thead th {\n",
              "        text-align: right;\n",
              "    }\n",
              "</style>\n",
              "<table border=\"1\" class=\"dataframe\">\n",
              "  <thead>\n",
              "    <tr style=\"text-align: right;\">\n",
              "      <th></th>\n",
              "      <th>TEMP_MAX_PREDICT</th>\n",
              "    </tr>\n",
              "  </thead>\n",
              "  <tbody>\n",
              "    <tr>\n",
              "      <th>0</th>\n",
              "      <td>11.396823</td>\n",
              "    </tr>\n",
              "    <tr>\n",
              "      <th>1</th>\n",
              "      <td>16.020019</td>\n",
              "    </tr>\n",
              "  </tbody>\n",
              "</table>\n",
              "</div>\n",
              "      <button class=\"colab-df-convert\" onclick=\"convertToInteractive('df-a3f7bcd0-e71c-4c1c-baec-a74f0b713a52')\"\n",
              "              title=\"Convert this dataframe to an interactive table.\"\n",
              "              style=\"display:none;\">\n",
              "        \n",
              "  <svg xmlns=\"http://www.w3.org/2000/svg\" height=\"24px\"viewBox=\"0 0 24 24\"\n",
              "       width=\"24px\">\n",
              "    <path d=\"M0 0h24v24H0V0z\" fill=\"none\"/>\n",
              "    <path d=\"M18.56 5.44l.94 2.06.94-2.06 2.06-.94-2.06-.94-.94-2.06-.94 2.06-2.06.94zm-11 1L8.5 8.5l.94-2.06 2.06-.94-2.06-.94L8.5 2.5l-.94 2.06-2.06.94zm10 10l.94 2.06.94-2.06 2.06-.94-2.06-.94-.94-2.06-.94 2.06-2.06.94z\"/><path d=\"M17.41 7.96l-1.37-1.37c-.4-.4-.92-.59-1.43-.59-.52 0-1.04.2-1.43.59L10.3 9.45l-7.72 7.72c-.78.78-.78 2.05 0 2.83L4 21.41c.39.39.9.59 1.41.59.51 0 1.02-.2 1.41-.59l7.78-7.78 2.81-2.81c.8-.78.8-2.07 0-2.86zM5.41 20L4 18.59l7.72-7.72 1.47 1.35L5.41 20z\"/>\n",
              "  </svg>\n",
              "      </button>\n",
              "      \n",
              "  <style>\n",
              "    .colab-df-container {\n",
              "      display:flex;\n",
              "      flex-wrap:wrap;\n",
              "      gap: 12px;\n",
              "    }\n",
              "\n",
              "    .colab-df-convert {\n",
              "      background-color: #E8F0FE;\n",
              "      border: none;\n",
              "      border-radius: 50%;\n",
              "      cursor: pointer;\n",
              "      display: none;\n",
              "      fill: #1967D2;\n",
              "      height: 32px;\n",
              "      padding: 0 0 0 0;\n",
              "      width: 32px;\n",
              "    }\n",
              "\n",
              "    .colab-df-convert:hover {\n",
              "      background-color: #E2EBFA;\n",
              "      box-shadow: 0px 1px 2px rgba(60, 64, 67, 0.3), 0px 1px 3px 1px rgba(60, 64, 67, 0.15);\n",
              "      fill: #174EA6;\n",
              "    }\n",
              "\n",
              "    [theme=dark] .colab-df-convert {\n",
              "      background-color: #3B4455;\n",
              "      fill: #D2E3FC;\n",
              "    }\n",
              "\n",
              "    [theme=dark] .colab-df-convert:hover {\n",
              "      background-color: #434B5C;\n",
              "      box-shadow: 0px 1px 3px 1px rgba(0, 0, 0, 0.15);\n",
              "      filter: drop-shadow(0px 1px 2px rgba(0, 0, 0, 0.3));\n",
              "      fill: #FFFFFF;\n",
              "    }\n",
              "  </style>\n",
              "\n",
              "      <script>\n",
              "        const buttonEl =\n",
              "          document.querySelector('#df-a3f7bcd0-e71c-4c1c-baec-a74f0b713a52 button.colab-df-convert');\n",
              "        buttonEl.style.display =\n",
              "          google.colab.kernel.accessAllowed ? 'block' : 'none';\n",
              "\n",
              "        async function convertToInteractive(key) {\n",
              "          const element = document.querySelector('#df-a3f7bcd0-e71c-4c1c-baec-a74f0b713a52');\n",
              "          const dataTable =\n",
              "            await google.colab.kernel.invokeFunction('convertToInteractive',\n",
              "                                                     [key], {});\n",
              "          if (!dataTable) return;\n",
              "\n",
              "          const docLinkHtml = 'Like what you see? Visit the ' +\n",
              "            '<a target=\"_blank\" href=https://colab.research.google.com/notebooks/data_table.ipynb>data table notebook</a>'\n",
              "            + ' to learn more about interactive tables.';\n",
              "          element.innerHTML = '';\n",
              "          dataTable['output_type'] = 'display_data';\n",
              "          await google.colab.output.renderOutput(dataTable, element);\n",
              "          const docLink = document.createElement('div');\n",
              "          docLink.innerHTML = docLinkHtml;\n",
              "          element.appendChild(docLink);\n",
              "        }\n",
              "      </script>\n",
              "    </div>\n",
              "  </div>\n",
              "  "
            ],
            "text/plain": [
              "   TEMP_MAX_PREDICT\n",
              "0         11.396823\n",
              "1         16.020019"
            ]
          },
          "metadata": {},
          "execution_count": 8
        }
      ]
    },
    {
      "cell_type": "code",
      "source": [
        "# merge 2 df concat outer join\n",
        "df_weather_predic = pd.concat([df_weather, predict_temp], axis=1)\n",
        "df_weather_predic.TEMP_MAX_PREDICT = round(df_weather_predic.TEMP_MAX_PREDICT, 2)\n",
        "df_weather_predic.head()"
      ],
      "metadata": {
        "colab": {
          "base_uri": "https://localhost:8080/",
          "height": 206
        },
        "id": "yrEczEGKehAg",
        "outputId": "47345147-15ec-4d77-c6f9-73f270349f41"
      },
      "execution_count": null,
      "outputs": [
        {
          "output_type": "execute_result",
          "data": {
            "text/html": [
              "\n",
              "  <div id=\"df-c7b2f789-d400-4b2c-9f5c-2a4f6b63bbdd\">\n",
              "    <div class=\"colab-df-container\">\n",
              "      <div>\n",
              "<style scoped>\n",
              "    .dataframe tbody tr th:only-of-type {\n",
              "        vertical-align: middle;\n",
              "    }\n",
              "\n",
              "    .dataframe tbody tr th {\n",
              "        vertical-align: top;\n",
              "    }\n",
              "\n",
              "    .dataframe thead th {\n",
              "        text-align: right;\n",
              "    }\n",
              "</style>\n",
              "<table border=\"1\" class=\"dataframe\">\n",
              "  <thead>\n",
              "    <tr style=\"text-align: right;\">\n",
              "      <th></th>\n",
              "      <th>DATE</th>\n",
              "      <th>MAX_TEMPERATURE_C</th>\n",
              "      <th>MIN_TEMPERATURE_C</th>\n",
              "      <th>SUNHOUR</th>\n",
              "      <th>TEMP_MAX_PREDICT</th>\n",
              "    </tr>\n",
              "  </thead>\n",
              "  <tbody>\n",
              "    <tr>\n",
              "      <th>0</th>\n",
              "      <td>2019-01-01</td>\n",
              "      <td>9</td>\n",
              "      <td>4</td>\n",
              "      <td>5.1</td>\n",
              "      <td>11.40</td>\n",
              "    </tr>\n",
              "    <tr>\n",
              "      <th>1</th>\n",
              "      <td>2019-01-02</td>\n",
              "      <td>8</td>\n",
              "      <td>5</td>\n",
              "      <td>8.7</td>\n",
              "      <td>16.02</td>\n",
              "    </tr>\n",
              "    <tr>\n",
              "      <th>2</th>\n",
              "      <td>2019-01-03</td>\n",
              "      <td>6</td>\n",
              "      <td>0</td>\n",
              "      <td>8.7</td>\n",
              "      <td>16.02</td>\n",
              "    </tr>\n",
              "    <tr>\n",
              "      <th>3</th>\n",
              "      <td>2019-01-04</td>\n",
              "      <td>5</td>\n",
              "      <td>-1</td>\n",
              "      <td>5.1</td>\n",
              "      <td>11.40</td>\n",
              "    </tr>\n",
              "    <tr>\n",
              "      <th>4</th>\n",
              "      <td>2019-01-05</td>\n",
              "      <td>6</td>\n",
              "      <td>-1</td>\n",
              "      <td>8.7</td>\n",
              "      <td>16.02</td>\n",
              "    </tr>\n",
              "  </tbody>\n",
              "</table>\n",
              "</div>\n",
              "      <button class=\"colab-df-convert\" onclick=\"convertToInteractive('df-c7b2f789-d400-4b2c-9f5c-2a4f6b63bbdd')\"\n",
              "              title=\"Convert this dataframe to an interactive table.\"\n",
              "              style=\"display:none;\">\n",
              "        \n",
              "  <svg xmlns=\"http://www.w3.org/2000/svg\" height=\"24px\"viewBox=\"0 0 24 24\"\n",
              "       width=\"24px\">\n",
              "    <path d=\"M0 0h24v24H0V0z\" fill=\"none\"/>\n",
              "    <path d=\"M18.56 5.44l.94 2.06.94-2.06 2.06-.94-2.06-.94-.94-2.06-.94 2.06-2.06.94zm-11 1L8.5 8.5l.94-2.06 2.06-.94-2.06-.94L8.5 2.5l-.94 2.06-2.06.94zm10 10l.94 2.06.94-2.06 2.06-.94-2.06-.94-.94-2.06-.94 2.06-2.06.94z\"/><path d=\"M17.41 7.96l-1.37-1.37c-.4-.4-.92-.59-1.43-.59-.52 0-1.04.2-1.43.59L10.3 9.45l-7.72 7.72c-.78.78-.78 2.05 0 2.83L4 21.41c.39.39.9.59 1.41.59.51 0 1.02-.2 1.41-.59l7.78-7.78 2.81-2.81c.8-.78.8-2.07 0-2.86zM5.41 20L4 18.59l7.72-7.72 1.47 1.35L5.41 20z\"/>\n",
              "  </svg>\n",
              "      </button>\n",
              "      \n",
              "  <style>\n",
              "    .colab-df-container {\n",
              "      display:flex;\n",
              "      flex-wrap:wrap;\n",
              "      gap: 12px;\n",
              "    }\n",
              "\n",
              "    .colab-df-convert {\n",
              "      background-color: #E8F0FE;\n",
              "      border: none;\n",
              "      border-radius: 50%;\n",
              "      cursor: pointer;\n",
              "      display: none;\n",
              "      fill: #1967D2;\n",
              "      height: 32px;\n",
              "      padding: 0 0 0 0;\n",
              "      width: 32px;\n",
              "    }\n",
              "\n",
              "    .colab-df-convert:hover {\n",
              "      background-color: #E2EBFA;\n",
              "      box-shadow: 0px 1px 2px rgba(60, 64, 67, 0.3), 0px 1px 3px 1px rgba(60, 64, 67, 0.15);\n",
              "      fill: #174EA6;\n",
              "    }\n",
              "\n",
              "    [theme=dark] .colab-df-convert {\n",
              "      background-color: #3B4455;\n",
              "      fill: #D2E3FC;\n",
              "    }\n",
              "\n",
              "    [theme=dark] .colab-df-convert:hover {\n",
              "      background-color: #434B5C;\n",
              "      box-shadow: 0px 1px 3px 1px rgba(0, 0, 0, 0.15);\n",
              "      filter: drop-shadow(0px 1px 2px rgba(0, 0, 0, 0.3));\n",
              "      fill: #FFFFFF;\n",
              "    }\n",
              "  </style>\n",
              "\n",
              "      <script>\n",
              "        const buttonEl =\n",
              "          document.querySelector('#df-c7b2f789-d400-4b2c-9f5c-2a4f6b63bbdd button.colab-df-convert');\n",
              "        buttonEl.style.display =\n",
              "          google.colab.kernel.accessAllowed ? 'block' : 'none';\n",
              "\n",
              "        async function convertToInteractive(key) {\n",
              "          const element = document.querySelector('#df-c7b2f789-d400-4b2c-9f5c-2a4f6b63bbdd');\n",
              "          const dataTable =\n",
              "            await google.colab.kernel.invokeFunction('convertToInteractive',\n",
              "                                                     [key], {});\n",
              "          if (!dataTable) return;\n",
              "\n",
              "          const docLinkHtml = 'Like what you see? Visit the ' +\n",
              "            '<a target=\"_blank\" href=https://colab.research.google.com/notebooks/data_table.ipynb>data table notebook</a>'\n",
              "            + ' to learn more about interactive tables.';\n",
              "          element.innerHTML = '';\n",
              "          dataTable['output_type'] = 'display_data';\n",
              "          await google.colab.output.renderOutput(dataTable, element);\n",
              "          const docLink = document.createElement('div');\n",
              "          docLink.innerHTML = docLinkHtml;\n",
              "          element.appendChild(docLink);\n",
              "        }\n",
              "      </script>\n",
              "    </div>\n",
              "  </div>\n",
              "  "
            ],
            "text/plain": [
              "         DATE  MAX_TEMPERATURE_C  MIN_TEMPERATURE_C  SUNHOUR  TEMP_MAX_PREDICT\n",
              "0  2019-01-01                  9                  4      5.1             11.40\n",
              "1  2019-01-02                  8                  5      8.7             16.02\n",
              "2  2019-01-03                  6                  0      8.7             16.02\n",
              "3  2019-01-04                  5                 -1      5.1             11.40\n",
              "4  2019-01-05                  6                 -1      8.7             16.02"
            ]
          },
          "metadata": {},
          "execution_count": 9
        }
      ]
    },
    {
      "cell_type": "markdown",
      "metadata": {
        "id": "0Ursrji1KgLk"
      },
      "source": [
        "## Visualisations\n",
        "You can predict the Max temperature from any value of Sunhour. Your prediction is now stored in a column, you can now visualize it. \n",
        "\n",
        "It's to you now :\n",
        "Create on the same scatterplot chart :\n",
        "- X-axis : Sunhours\n",
        "- Y-axis : MAX temperatures in blue dots and 'predict' in red dots."
      ]
    },
    {
      "cell_type": "code",
      "metadata": {
        "id": "ZgbZRRwmI93Q",
        "colab": {
          "base_uri": "https://localhost:8080/",
          "height": 350
        },
        "outputId": "8108b058-5b8b-4ea2-a009-60ca849d83be"
      },
      "source": [
        "# Your code here :\n",
        "sns.scatterplot(x=df_weather_predic.SUNHOUR, y=df_weather_predic.MAX_TEMPERATURE_C, \n",
        "                color=\"darkcyan\", label=\"Max Temp\")\n",
        "sns.scatterplot(x=df_weather_predic.SUNHOUR, y=df_weather_predic.TEMP_MAX_PREDICT, \n",
        "                color=\"coral\", label=\"Predicted Temp\")\n",
        "plt.title(\"Max Temperatures' Prediction\")\n",
        "plt.xlabel(\"Sunhour\")\n",
        "plt.ylabel(\"Temperatures\")\n",
        "plt.legend(loc=2)\n",
        "plt.show()"
      ],
      "execution_count": null,
      "outputs": [
        {
          "output_type": "display_data",
          "data": {
            "image/png": "[encoded data removed]",
            "text/plain": [
              "<Figure size 720x360 with 1 Axes>"
            ]
          },
          "metadata": {
            "needs_background": "light"
          }
        }
      ]
    },
    {
      "cell_type": "markdown",
      "metadata": {
        "id": "T1rmKjRPLVVq"
      },
      "source": [
        "Your prediction is stored in a DataFrame. **So, you can visualize your prediction without the \"source\" column.** Let's try it.\n",
        "Create on the same scatterplot chart :\n",
        "- X-axis : DATE\n",
        "- Y-axis : MAX temperatures in blue dots and 'predict' in red dots."
      ]
    },
    {
      "cell_type": "code",
      "source": [
        "# colonne date set up\n",
        "df_weather_predic.DATE = pd.to_datetime(df_weather_predic.DATE)\n",
        "df_weather_predic.info()"
      ],
      "metadata": {
        "colab": {
          "base_uri": "https://localhost:8080/"
        },
        "id": "xMMk2xA0jJ8r",
        "outputId": "29718276-a5f3-4abb-b7fb-b3643dab9c7a"
      },
      "execution_count": null,
      "outputs": [
        {
          "output_type": "stream",
          "name": "stdout",
          "text": [
            "<class 'pandas.core.frame.DataFrame'>\n",
            "RangeIndex: 365 entries, 0 to 364\n",
            "Data columns (total 5 columns):\n",
            " #   Column             Non-Null Count  Dtype         \n",
            "---  ------             --------------  -----         \n",
            " 0   DATE               365 non-null    datetime64[ns]\n",
            " 1   MAX_TEMPERATURE_C  365 non-null    int64         \n",
            " 2   MIN_TEMPERATURE_C  365 non-null    int64         \n",
            " 3   SUNHOUR            365 non-null    float64       \n",
            " 4   TEMP_MAX_PREDICT   365 non-null    float64       \n",
            "dtypes: datetime64[ns](1), float64(2), int64(2)\n",
            "memory usage: 14.4 KB\n"
          ]
        }
      ]
    },
    {
      "cell_type": "code",
      "metadata": {
        "id": "87LCCYitLYZ7",
        "colab": {
          "base_uri": "https://localhost:8080/",
          "height": 350
        },
        "outputId": "4152f8da-012b-4602-d19a-a98167c6a18b"
      },
      "source": [
        "# Your code here :\n",
        "sns.scatterplot(x=df_weather_predic.DATE, y=df_weather_predic.MAX_TEMPERATURE_C, \n",
        "                color=\"darkcyan\", label=\"Max Temp\")\n",
        "sns.scatterplot(x=df_weather_predic.DATE, y=df_weather_predic.TEMP_MAX_PREDICT, \n",
        "                color=\"coral\", label=\"Predicted Temp\")\n",
        "plt.title(\"Max Temperatures' Prediction\")\n",
        "plt.xlabel(\"Date\")\n",
        "plt.ylabel(\"Temperatures\")\n",
        "plt.legend(loc=1)\n",
        "plt.show()"
      ],
      "execution_count": null,
      "outputs": [
        {
          "output_type": "display_data",
          "data": {
            "image/png": "[encoded data removed]",
            "text/plain": [
              "<Figure size 720x360 with 1 Axes>"
            ]
          },
          "metadata": {
            "needs_background": "light"
          }
        }
      ]
    },
    {
      "cell_type": "markdown",
      "metadata": {
        "id": "uDopKt23LbYF"
      },
      "source": [
        "Hey, but it doesn't seem linear ! And yet it is..."
      ]
    },
    {
      "cell_type": "markdown",
      "metadata": {
        "id": "UcNA1qwJLlyU"
      },
      "source": [
        "# Predictions on a more correlated column\n",
        "Do the same steps to obtain a new colum \"predict2\". Your goal is to predict \"MAX temperature\" from the \"MIN temperature\" column."
      ]
    },
    {
      "cell_type": "code",
      "metadata": {
        "id": "NlrSXUswL4Lq",
        "colab": {
          "base_uri": "https://localhost:8080/",
          "height": 350
        },
        "outputId": "c34eee49-be02-498e-c1d6-02d790a5f543"
      },
      "source": [
        "# step 1\n",
        "# check regression des 2 variables in chart\n",
        "sns.regplot(x=\"MAX_TEMPERATURE_C\", \n",
        "            y=\"MIN_TEMPERATURE_C\", \n",
        "            data=df_weather,\n",
        "            line_kws={\"color\": \"coral\"},\n",
        "            scatter_kws={\"color\": \"darkcyan\"})\n",
        "plt.title(\"Max et Min Temperatures\")\n",
        "plt.xlabel(\"Max Temp\")\n",
        "plt.ylabel(\"Min Temp\")\n",
        "plt.show()"
      ],
      "execution_count": null,
      "outputs": [
        {
          "output_type": "display_data",
          "data": {
            "image/png": "[encoded data removed]",
            "text/plain": [
              "<Figure size 720x360 with 1 Axes>"
            ]
          },
          "metadata": {
            "needs_background": "light"
          }
        }
      ]
    },
    {
      "cell_type": "code",
      "source": [
        "# Step 2\n",
        "# 2 series :\n",
        "# X-axis : the correlated column : Min temp\n",
        "X = df_weather[['MIN_TEMPERATURE_C']] \n",
        "\n",
        "# Y-axis : the column to predict : MAX Temperature\n",
        "y = df_weather['MAX_TEMPERATURE_C'] \n",
        "\n",
        "# train a machine learning model to find the equation of the linear regression with \".fit\" method.\n",
        "modelLR = LinearRegression().fit(X, y)"
      ],
      "metadata": {
        "id": "a5ISqgC5lp3n"
      },
      "execution_count": null,
      "outputs": []
    },
    {
      "cell_type": "code",
      "source": [
        "# Step 3\n",
        "# Explore the model trained\n",
        "# Coefficient, it's the \"a\" in your equation \"aX + b\"\n",
        "print(\"coefficient :\",modelLR.coef_)\n",
        "\n",
        "# Interception, it's the \"b\" in your equation \"aX + b\"\n",
        "print(\"intercept :\", modelLR.intercept_)"
      ],
      "metadata": {
        "colab": {
          "base_uri": "https://localhost:8080/"
        },
        "id": "vaiNobHrmkRp",
        "outputId": "aaddf0fb-5665-4cc7-ed09-9e7f505dba54"
      },
      "execution_count": null,
      "outputs": [
        {
          "output_type": "stream",
          "name": "stdout",
          "text": [
            "coefficient : [1.22274205]\n",
            "intercept : 5.689031214578716\n"
          ]
        }
      ]
    },
    {
      "cell_type": "code",
      "source": [
        "# Step 4\n",
        "# Prediction of Max Temp from Min Temp with Min Temp = 6\n",
        "\n",
        "# Hand calculation :\n",
        "print(\"By hand :\", modelLR.coef_ * 6 + modelLR.intercept_ )\n",
        "\n",
        "# With a Scikit-Learn function :\n",
        "print(\"Scikit-Learn :  \", modelLR.predict([[6]]))"
      ],
      "metadata": {
        "colab": {
          "base_uri": "https://localhost:8080/"
        },
        "id": "vDkYfKNPm0sS",
        "outputId": "9641aca8-04c0-42ab-c19a-4194e6a19f79"
      },
      "execution_count": null,
      "outputs": [
        {
          "output_type": "stream",
          "name": "stdout",
          "text": [
            "By hand : [13.02548352]\n",
            "Scikit-Learn :   [13.02548352]\n"
          ]
        },
        {
          "output_type": "stream",
          "name": "stderr",
          "text": [
            "/usr/local/lib/python3.7/dist-packages/sklearn/base.py:451: UserWarning: X does not have valid feature names, but LinearRegression was fitted with feature names\n",
            "  \"X does not have valid feature names, but\"\n"
          ]
        }
      ]
    },
    {
      "cell_type": "code",
      "metadata": {
        "colab": {
          "base_uri": "https://localhost:8080/",
          "height": 223
        },
        "outputId": "4d8c9d91-bf72-46eb-a820-36cafa8b8828",
        "id": "EGryT1J8pC30"
      },
      "source": [
        "# Step 5\n",
        "# store predictions in df\n",
        "predict_temp_2 = pd.DataFrame(modelLR.predict(df_weather[['MIN_TEMPERATURE_C']]), columns=[\"TEMP_MAX_PREDICT\"])\n",
        "print(\"check diff nb lignes\", len(predict_temp) - len(df_weather))\n",
        "# merge 2 df concat outer join\n",
        "df_weather_predic_2 = pd.concat([df_weather, predict_temp_2], axis=1)\n",
        "df_weather_predic_2.head()"
      ],
      "execution_count": null,
      "outputs": [
        {
          "output_type": "stream",
          "name": "stdout",
          "text": [
            "check diff nb lignes 0\n"
          ]
        },
        {
          "output_type": "execute_result",
          "data": {
            "text/html": [
              "\n",
              "  <div id=\"df-0e8232e2-791a-472b-8c5f-8efcbf2086df\">\n",
              "    <div class=\"colab-df-container\">\n",
              "      <div>\n",
              "<style scoped>\n",
              "    .dataframe tbody tr th:only-of-type {\n",
              "        vertical-align: middle;\n",
              "    }\n",
              "\n",
              "    .dataframe tbody tr th {\n",
              "        vertical-align: top;\n",
              "    }\n",
              "\n",
              "    .dataframe thead th {\n",
              "        text-align: right;\n",
              "    }\n",
              "</style>\n",
              "<table border=\"1\" class=\"dataframe\">\n",
              "  <thead>\n",
              "    <tr style=\"text-align: right;\">\n",
              "      <th></th>\n",
              "      <th>DATE</th>\n",
              "      <th>MAX_TEMPERATURE_C</th>\n",
              "      <th>MIN_TEMPERATURE_C</th>\n",
              "      <th>SUNHOUR</th>\n",
              "      <th>TEMP_MAX_PREDICT</th>\n",
              "    </tr>\n",
              "  </thead>\n",
              "  <tbody>\n",
              "    <tr>\n",
              "      <th>0</th>\n",
              "      <td>2019-01-01</td>\n",
              "      <td>9</td>\n",
              "      <td>4</td>\n",
              "      <td>5.1</td>\n",
              "      <td>10.579999</td>\n",
              "    </tr>\n",
              "    <tr>\n",
              "      <th>1</th>\n",
              "      <td>2019-01-02</td>\n",
              "      <td>8</td>\n",
              "      <td>5</td>\n",
              "      <td>8.7</td>\n",
              "      <td>11.802741</td>\n",
              "    </tr>\n",
              "    <tr>\n",
              "      <th>2</th>\n",
              "      <td>2019-01-03</td>\n",
              "      <td>6</td>\n",
              "      <td>0</td>\n",
              "      <td>8.7</td>\n",
              "      <td>5.689031</td>\n",
              "    </tr>\n",
              "    <tr>\n",
              "      <th>3</th>\n",
              "      <td>2019-01-04</td>\n",
              "      <td>5</td>\n",
              "      <td>-1</td>\n",
              "      <td>5.1</td>\n",
              "      <td>4.466289</td>\n",
              "    </tr>\n",
              "    <tr>\n",
              "      <th>4</th>\n",
              "      <td>2019-01-05</td>\n",
              "      <td>6</td>\n",
              "      <td>-1</td>\n",
              "      <td>8.7</td>\n",
              "      <td>4.466289</td>\n",
              "    </tr>\n",
              "  </tbody>\n",
              "</table>\n",
              "</div>\n",
              "      <button class=\"colab-df-convert\" onclick=\"convertToInteractive('df-0e8232e2-791a-472b-8c5f-8efcbf2086df')\"\n",
              "              title=\"Convert this dataframe to an interactive table.\"\n",
              "              style=\"display:none;\">\n",
              "        \n",
              "  <svg xmlns=\"http://www.w3.org/2000/svg\" height=\"24px\"viewBox=\"0 0 24 24\"\n",
              "       width=\"24px\">\n",
              "    <path d=\"M0 0h24v24H0V0z\" fill=\"none\"/>\n",
              "    <path d=\"M18.56 5.44l.94 2.06.94-2.06 2.06-.94-2.06-.94-.94-2.06-.94 2.06-2.06.94zm-11 1L8.5 8.5l.94-2.06 2.06-.94-2.06-.94L8.5 2.5l-.94 2.06-2.06.94zm10 10l.94 2.06.94-2.06 2.06-.94-2.06-.94-.94-2.06-.94 2.06-2.06.94z\"/><path d=\"M17.41 7.96l-1.37-1.37c-.4-.4-.92-.59-1.43-.59-.52 0-1.04.2-1.43.59L10.3 9.45l-7.72 7.72c-.78.78-.78 2.05 0 2.83L4 21.41c.39.39.9.59 1.41.59.51 0 1.02-.2 1.41-.59l7.78-7.78 2.81-2.81c.8-.78.8-2.07 0-2.86zM5.41 20L4 18.59l7.72-7.72 1.47 1.35L5.41 20z\"/>\n",
              "  </svg>\n",
              "      </button>\n",
              "      \n",
              "  <style>\n",
              "    .colab-df-container {\n",
              "      display:flex;\n",
              "      flex-wrap:wrap;\n",
              "      gap: 12px;\n",
              "    }\n",
              "\n",
              "    .colab-df-convert {\n",
              "      background-color: #E8F0FE;\n",
              "      border: none;\n",
              "      border-radius: 50%;\n",
              "      cursor: pointer;\n",
              "      display: none;\n",
              "      fill: #1967D2;\n",
              "      height: 32px;\n",
              "      padding: 0 0 0 0;\n",
              "      width: 32px;\n",
              "    }\n",
              "\n",
              "    .colab-df-convert:hover {\n",
              "      background-color: #E2EBFA;\n",
              "      box-shadow: 0px 1px 2px rgba(60, 64, 67, 0.3), 0px 1px 3px 1px rgba(60, 64, 67, 0.15);\n",
              "      fill: #174EA6;\n",
              "    }\n",
              "\n",
              "    [theme=dark] .colab-df-convert {\n",
              "      background-color: #3B4455;\n",
              "      fill: #D2E3FC;\n",
              "    }\n",
              "\n",
              "    [theme=dark] .colab-df-convert:hover {\n",
              "      background-color: #434B5C;\n",
              "      box-shadow: 0px 1px 3px 1px rgba(0, 0, 0, 0.15);\n",
              "      filter: drop-shadow(0px 1px 2px rgba(0, 0, 0, 0.3));\n",
              "      fill: #FFFFFF;\n",
              "    }\n",
              "  </style>\n",
              "\n",
              "      <script>\n",
              "        const buttonEl =\n",
              "          document.querySelector('#df-0e8232e2-791a-472b-8c5f-8efcbf2086df button.colab-df-convert');\n",
              "        buttonEl.style.display =\n",
              "          google.colab.kernel.accessAllowed ? 'block' : 'none';\n",
              "\n",
              "        async function convertToInteractive(key) {\n",
              "          const element = document.querySelector('#df-0e8232e2-791a-472b-8c5f-8efcbf2086df');\n",
              "          const dataTable =\n",
              "            await google.colab.kernel.invokeFunction('convertToInteractive',\n",
              "                                                     [key], {});\n",
              "          if (!dataTable) return;\n",
              "\n",
              "          const docLinkHtml = 'Like what you see? Visit the ' +\n",
              "            '<a target=\"_blank\" href=https://colab.research.google.com/notebooks/data_table.ipynb>data table notebook</a>'\n",
              "            + ' to learn more about interactive tables.';\n",
              "          element.innerHTML = '';\n",
              "          dataTable['output_type'] = 'display_data';\n",
              "          await google.colab.output.renderOutput(dataTable, element);\n",
              "          const docLink = document.createElement('div');\n",
              "          docLink.innerHTML = docLinkHtml;\n",
              "          element.appendChild(docLink);\n",
              "        }\n",
              "      </script>\n",
              "    </div>\n",
              "  </div>\n",
              "  "
            ],
            "text/plain": [
              "         DATE  MAX_TEMPERATURE_C  MIN_TEMPERATURE_C  SUNHOUR  TEMP_MAX_PREDICT\n",
              "0  2019-01-01                  9                  4      5.1         10.579999\n",
              "1  2019-01-02                  8                  5      8.7         11.802741\n",
              "2  2019-01-03                  6                  0      8.7          5.689031\n",
              "3  2019-01-04                  5                 -1      5.1          4.466289\n",
              "4  2019-01-05                  6                 -1      8.7          4.466289"
            ]
          },
          "metadata": {},
          "execution_count": 17
        }
      ]
    },
    {
      "cell_type": "markdown",
      "metadata": {
        "id": "faAHUMseL3vY"
      },
      "source": [
        "## Scatterplot 1\n",
        "- X-axis : MIN temperature\n",
        "- Y-axis : MAX temperatures in blue dots and 'predict2' in red dots."
      ]
    },
    {
      "cell_type": "code",
      "metadata": {
        "colab": {
          "base_uri": "https://localhost:8080/",
          "height": 350
        },
        "outputId": "bd637afe-9477-4ab7-c32e-ea140e12fe7c",
        "id": "esFeLNCMpC38"
      },
      "source": [
        "# Your code here :\n",
        "sns.scatterplot(x=df_weather_predic_2.MIN_TEMPERATURE_C, y=df_weather_predic_2.MAX_TEMPERATURE_C, \n",
        "                color=\"darkcyan\", label=\"Max Temp\")\n",
        "sns.scatterplot(x=df_weather_predic_2.MIN_TEMPERATURE_C, y=df_weather_predic_2.TEMP_MAX_PREDICT, \n",
        "                color=\"coral\", label=\"Predicted Temp\")\n",
        "plt.title(\"Max Temperatures' Prediction\")\n",
        "plt.xlabel(\"Temperature Min\")\n",
        "plt.ylabel(\"Temperatures Max\")\n",
        "plt.legend(loc=0)\n",
        "plt.show()"
      ],
      "execution_count": null,
      "outputs": [
        {
          "output_type": "display_data",
          "data": {
            "image/png": "[encoded data removed]",
            "text/plain": [
              "<Figure size 720x360 with 1 Axes>"
            ]
          },
          "metadata": {
            "needs_background": "light"
          }
        }
      ]
    },
    {
      "cell_type": "code",
      "source": [
        "# colonne date set up\n",
        "df_weather_predic_2.DATE = pd.to_datetime(df_weather_predic_2.DATE)\n",
        "df_weather_predic_2.info()"
      ],
      "metadata": {
        "colab": {
          "base_uri": "https://localhost:8080/"
        },
        "outputId": "26b9d232-f7dd-4a4c-a4e8-7ae4fb2b8537",
        "id": "ZvEh1G1HpC38"
      },
      "execution_count": null,
      "outputs": [
        {
          "output_type": "stream",
          "name": "stdout",
          "text": [
            "<class 'pandas.core.frame.DataFrame'>\n",
            "RangeIndex: 365 entries, 0 to 364\n",
            "Data columns (total 5 columns):\n",
            " #   Column             Non-Null Count  Dtype         \n",
            "---  ------             --------------  -----         \n",
            " 0   DATE               365 non-null    datetime64[ns]\n",
            " 1   MAX_TEMPERATURE_C  365 non-null    int64         \n",
            " 2   MIN_TEMPERATURE_C  365 non-null    int64         \n",
            " 3   SUNHOUR            365 non-null    float64       \n",
            " 4   TEMP_MAX_PREDICT   365 non-null    float64       \n",
            "dtypes: datetime64[ns](1), float64(2), int64(2)\n",
            "memory usage: 14.4 KB\n"
          ]
        }
      ]
    },
    {
      "cell_type": "markdown",
      "metadata": {
        "id": "A8P6S3RTMMo-"
      },
      "source": [
        "## Scatterplot 2\n",
        "- X-axis : DATE\n",
        "- Y-axis : MAX temperatures in blue dots and 'predict2' in red dots."
      ]
    },
    {
      "cell_type": "code",
      "metadata": {
        "colab": {
          "base_uri": "https://localhost:8080/",
          "height": 350
        },
        "outputId": "57b9b4a8-dcad-42ce-cc70-634b651d5511",
        "id": "-sqC_5gdpC38"
      },
      "source": [
        "# Your code here :\n",
        "sns.scatterplot(x=df_weather_predic_2.DATE, y=df_weather_predic_2.MAX_TEMPERATURE_C, \n",
        "                color=\"darkcyan\", label=\"Max Temp\")\n",
        "sns.scatterplot(x=df_weather_predic_2.DATE, y=df_weather_predic_2.TEMP_MAX_PREDICT, \n",
        "                color=\"coral\", label='Predicted Temp')\n",
        "plt.title(\"Max Temperatures' Prediction\")\n",
        "plt.xlabel(\"Date\")\n",
        "plt.ylabel(\"Temperatures\")\n",
        "plt.legend(loc=1)\n",
        "plt.show()"
      ],
      "execution_count": null,
      "outputs": [
        {
          "output_type": "display_data",
          "data": {
            "image/png": "[encoded data removed]",
            "text/plain": [
              "<Figure size 720x360 with 1 Axes>"
            ]
          },
          "metadata": {
            "needs_background": "light"
          }
        }
      ]
    },
    {
      "cell_type": "code",
      "source": [
        ""
      ],
      "metadata": {
        "id": "GqB5QCSFsyDd"
      },
      "execution_count": null,
      "outputs": []
    }
  ]
}