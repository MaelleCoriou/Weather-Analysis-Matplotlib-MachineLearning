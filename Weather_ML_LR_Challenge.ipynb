{
  "nbformat": 4,
  "nbformat_minor": 0,
  "metadata": {
    "colab": {
      "name": "ML - challenge - Regressions - Weather - Maëlle.ipynb",
      "provenance": [],
      "collapsed_sections": []
    },
    "kernelspec": {
      "name": "python3",
      "display_name": "Python 3"
    }
  },
  "cells": [
    {
      "cell_type": "markdown",
      "metadata": {
        "id": "HOwQ62ZHNfoL"
      },
      "source": [
        "# Weather Regression - SkLearn"
      ]
    },
    {
      "cell_type": "code",
      "metadata": {
        "id": "cQtq-iEuNTCE",
        "colab": {
          "base_uri": "https://localhost:8080/"
        },
        "outputId": "ddf6d444-48ec-4373-ff8a-4c3256833890"
      },
      "source": [
        "import pandas as pd\n",
        "import numpy as np\n",
        "import seaborn as sns\n",
        "import matplotlib.pyplot as plt\n",
        "from sklearn.linear_model import LinearRegression\n",
        "from sklearn.model_selection import train_test_split\n",
        "link_main = \"https://raw.githubusercontent.com/murpi/wilddata/master/quests/weather_main_2018.csv\"\n",
        "link_opinion = \"https://raw.githubusercontent.com/murpi/wilddata/master/quests/weather_opinion_2018.csv\"\n",
        "df_main = pd.read_csv(link_main)\n",
        "df_opinion = pd.read_csv(link_opinion)\n",
        "print(df_main.head())\n",
        "print(df_opinion.head())"
      ],
      "execution_count": null,
      "outputs": [
        {
          "output_type": "stream",
          "name": "stdout",
          "text": [
            "         DATE  MAX_TEMPERATURE_C  ...  DEWPOINT_MAX_C  WINDTEMP_MAX_C\n",
            "0  2018-01-01                 12  ...               8               7\n",
            "1  2018-01-02                 13  ...              12               6\n",
            "2  2018-01-03                 15  ...              13               7\n",
            "3  2018-01-04                 14  ...              12              10\n",
            "4  2018-01-05                 12  ...              10               7\n",
            "\n",
            "[5 rows x 15 columns]\n",
            "         date  WEATHER_CODE_EVENING  TOTAL_SNOW_MM  UV_INDEX  SUNHOUR OPINION\n",
            "0  2018-01-01                   113              0         3      5.1     bad\n",
            "1  2018-03-12                   119              0         2      8.8     bad\n",
            "2  2018-03-09                   116              0         3     10.2     bad\n",
            "3  2018-10-07                   122              0         1      5.6     bad\n",
            "4  2018-06-18                   119              0         1     12.9     bad\n"
          ]
        }
      ]
    },
    {
      "cell_type": "markdown",
      "metadata": {
        "id": "ys4dNAEWNuQi"
      },
      "source": [
        "# Merge\n",
        "First of all, you have to merge both DataFrames to have a new DataFrame \"df2018\" DataFrame with 365 rows and 20 columns (indeed, you can drop the date column in double).\n",
        "\n"
      ]
    },
    {
      "cell_type": "code",
      "metadata": {
        "id": "n2d3_LJUOTWP",
        "colab": {
          "base_uri": "https://localhost:8080/",
          "height": 228
        },
        "outputId": "61756235-c23b-44f0-b44d-7f1f44443475"
      },
      "source": [
        "# Your code here :\n",
        "df2018 = pd.merge(df_main, df_opinion, left_on=\"DATE\", right_on=\"date\", how=\"left\")\n",
        "del df2018[\"date\"]\n",
        "print(\"nb de lignes :\", len(df2018))\n",
        "df2018.head(2)"
      ],
      "execution_count": null,
      "outputs": [
        {
          "output_type": "stream",
          "name": "stdout",
          "text": [
            "nb de lignes : 365\n"
          ]
        },
        {
          "output_type": "execute_result",
          "data": {
            "text/html": [
              "\n",
              "  <div id=\"df-de4e95f3-f7ed-44d8-85b7-0e7d94948093\">\n",
              "    <div class=\"colab-df-container\">\n",
              "      <div>\n",
              "<style scoped>\n",
              "    .dataframe tbody tr th:only-of-type {\n",
              "        vertical-align: middle;\n",
              "    }\n",
              "\n",
              "    .dataframe tbody tr th {\n",
              "        vertical-align: top;\n",
              "    }\n",
              "\n",
              "    .dataframe thead th {\n",
              "        text-align: right;\n",
              "    }\n",
              "</style>\n",
              "<table border=\"1\" class=\"dataframe\">\n",
              "  <thead>\n",
              "    <tr style=\"text-align: right;\">\n",
              "      <th></th>\n",
              "      <th>DATE</th>\n",
              "      <th>MAX_TEMPERATURE_C</th>\n",
              "      <th>MIN_TEMPERATURE_C</th>\n",
              "      <th>WINDSPEED_MAX_KMH</th>\n",
              "      <th>TEMPERATURE_MORNING_C</th>\n",
              "      <th>TEMPERATURE_NOON_C</th>\n",
              "      <th>TEMPERATURE_EVENING_C</th>\n",
              "      <th>PRECIP_TOTAL_DAY_MM</th>\n",
              "      <th>HUMIDITY_MAX_PERCENT</th>\n",
              "      <th>VISIBILITY_AVG_KM</th>\n",
              "      <th>PRESSURE_MAX_MB</th>\n",
              "      <th>CLOUDCOVER_AVG_PERCENT</th>\n",
              "      <th>HEATINDEX_MAX_C</th>\n",
              "      <th>DEWPOINT_MAX_C</th>\n",
              "      <th>WINDTEMP_MAX_C</th>\n",
              "      <th>WEATHER_CODE_EVENING</th>\n",
              "      <th>TOTAL_SNOW_MM</th>\n",
              "      <th>UV_INDEX</th>\n",
              "      <th>SUNHOUR</th>\n",
              "      <th>OPINION</th>\n",
              "    </tr>\n",
              "  </thead>\n",
              "  <tbody>\n",
              "    <tr>\n",
              "      <th>0</th>\n",
              "      <td>2018-01-01</td>\n",
              "      <td>12</td>\n",
              "      <td>8</td>\n",
              "      <td>61</td>\n",
              "      <td>9</td>\n",
              "      <td>11</td>\n",
              "      <td>8</td>\n",
              "      <td>8.9</td>\n",
              "      <td>79</td>\n",
              "      <td>9.5</td>\n",
              "      <td>1018</td>\n",
              "      <td>41.750</td>\n",
              "      <td>12</td>\n",
              "      <td>8</td>\n",
              "      <td>7</td>\n",
              "      <td>113.0</td>\n",
              "      <td>0.0</td>\n",
              "      <td>3.0</td>\n",
              "      <td>5.1</td>\n",
              "      <td>bad</td>\n",
              "    </tr>\n",
              "    <tr>\n",
              "      <th>1</th>\n",
              "      <td>2018-01-02</td>\n",
              "      <td>13</td>\n",
              "      <td>6</td>\n",
              "      <td>26</td>\n",
              "      <td>8</td>\n",
              "      <td>12</td>\n",
              "      <td>13</td>\n",
              "      <td>0.6</td>\n",
              "      <td>96</td>\n",
              "      <td>9.0</td>\n",
              "      <td>1020</td>\n",
              "      <td>87.875</td>\n",
              "      <td>13</td>\n",
              "      <td>12</td>\n",
              "      <td>6</td>\n",
              "      <td>122.0</td>\n",
              "      <td>0.0</td>\n",
              "      <td>3.0</td>\n",
              "      <td>3.3</td>\n",
              "      <td>bad</td>\n",
              "    </tr>\n",
              "  </tbody>\n",
              "</table>\n",
              "</div>\n",
              "      <button class=\"colab-df-convert\" onclick=\"convertToInteractive('df-de4e95f3-f7ed-44d8-85b7-0e7d94948093')\"\n",
              "              title=\"Convert this dataframe to an interactive table.\"\n",
              "              style=\"display:none;\">\n",
              "        \n",
              "  <svg xmlns=\"http://www.w3.org/2000/svg\" height=\"24px\"viewBox=\"0 0 24 24\"\n",
              "       width=\"24px\">\n",
              "    <path d=\"M0 0h24v24H0V0z\" fill=\"none\"/>\n",
              "    <path d=\"M18.56 5.44l.94 2.06.94-2.06 2.06-.94-2.06-.94-.94-2.06-.94 2.06-2.06.94zm-11 1L8.5 8.5l.94-2.06 2.06-.94-2.06-.94L8.5 2.5l-.94 2.06-2.06.94zm10 10l.94 2.06.94-2.06 2.06-.94-2.06-.94-.94-2.06-.94 2.06-2.06.94z\"/><path d=\"M17.41 7.96l-1.37-1.37c-.4-.4-.92-.59-1.43-.59-.52 0-1.04.2-1.43.59L10.3 9.45l-7.72 7.72c-.78.78-.78 2.05 0 2.83L4 21.41c.39.39.9.59 1.41.59.51 0 1.02-.2 1.41-.59l7.78-7.78 2.81-2.81c.8-.78.8-2.07 0-2.86zM5.41 20L4 18.59l7.72-7.72 1.47 1.35L5.41 20z\"/>\n",
              "  </svg>\n",
              "      </button>\n",
              "      \n",
              "  <style>\n",
              "    .colab-df-container {\n",
              "      display:flex;\n",
              "      flex-wrap:wrap;\n",
              "      gap: 12px;\n",
              "    }\n",
              "\n",
              "    .colab-df-convert {\n",
              "      background-color: #E8F0FE;\n",
              "      border: none;\n",
              "      border-radius: 50%;\n",
              "      cursor: pointer;\n",
              "      display: none;\n",
              "      fill: #1967D2;\n",
              "      height: 32px;\n",
              "      padding: 0 0 0 0;\n",
              "      width: 32px;\n",
              "    }\n",
              "\n",
              "    .colab-df-convert:hover {\n",
              "      background-color: #E2EBFA;\n",
              "      box-shadow: 0px 1px 2px rgba(60, 64, 67, 0.3), 0px 1px 3px 1px rgba(60, 64, 67, 0.15);\n",
              "      fill: #174EA6;\n",
              "    }\n",
              "\n",
              "    [theme=dark] .colab-df-convert {\n",
              "      background-color: #3B4455;\n",
              "      fill: #D2E3FC;\n",
              "    }\n",
              "\n",
              "    [theme=dark] .colab-df-convert:hover {\n",
              "      background-color: #434B5C;\n",
              "      box-shadow: 0px 1px 3px 1px rgba(0, 0, 0, 0.15);\n",
              "      filter: drop-shadow(0px 1px 2px rgba(0, 0, 0, 0.3));\n",
              "      fill: #FFFFFF;\n",
              "    }\n",
              "  </style>\n",
              "\n",
              "      <script>\n",
              "        const buttonEl =\n",
              "          document.querySelector('#df-de4e95f3-f7ed-44d8-85b7-0e7d94948093 button.colab-df-convert');\n",
              "        buttonEl.style.display =\n",
              "          google.colab.kernel.accessAllowed ? 'block' : 'none';\n",
              "\n",
              "        async function convertToInteractive(key) {\n",
              "          const element = document.querySelector('#df-de4e95f3-f7ed-44d8-85b7-0e7d94948093');\n",
              "          const dataTable =\n",
              "            await google.colab.kernel.invokeFunction('convertToInteractive',\n",
              "                                                     [key], {});\n",
              "          if (!dataTable) return;\n",
              "\n",
              "          const docLinkHtml = 'Like what you see? Visit the ' +\n",
              "            '<a target=\"_blank\" href=https://colab.research.google.com/notebooks/data_table.ipynb>data table notebook</a>'\n",
              "            + ' to learn more about interactive tables.';\n",
              "          element.innerHTML = '';\n",
              "          dataTable['output_type'] = 'display_data';\n",
              "          await google.colab.output.renderOutput(dataTable, element);\n",
              "          const docLink = document.createElement('div');\n",
              "          docLink.innerHTML = docLinkHtml;\n",
              "          element.appendChild(docLink);\n",
              "        }\n",
              "      </script>\n",
              "    </div>\n",
              "  </div>\n",
              "  "
            ],
            "text/plain": [
              "         DATE  MAX_TEMPERATURE_C  MIN_TEMPERATURE_C  ...  UV_INDEX  SUNHOUR  OPINION\n",
              "0  2018-01-01                 12                  8  ...       3.0      5.1      bad\n",
              "1  2018-01-02                 13                  6  ...       3.0      3.3      bad\n",
              "\n",
              "[2 rows x 20 columns]"
            ]
          },
          "metadata": {},
          "execution_count": 2
        }
      ]
    },
    {
      "cell_type": "code",
      "source": [
        "df2018.info()"
      ],
      "metadata": {
        "colab": {
          "base_uri": "https://localhost:8080/"
        },
        "id": "OBVBYqdYnVNN",
        "outputId": "e2f3cbc4-cd0d-4907-9833-6d0f5a1c96b9"
      },
      "execution_count": null,
      "outputs": [
        {
          "output_type": "stream",
          "name": "stdout",
          "text": [
            "<class 'pandas.core.frame.DataFrame'>\n",
            "Int64Index: 365 entries, 0 to 364\n",
            "Data columns (total 20 columns):\n",
            " #   Column                  Non-Null Count  Dtype  \n",
            "---  ------                  --------------  -----  \n",
            " 0   DATE                    365 non-null    object \n",
            " 1   MAX_TEMPERATURE_C       365 non-null    int64  \n",
            " 2   MIN_TEMPERATURE_C       365 non-null    int64  \n",
            " 3   WINDSPEED_MAX_KMH       365 non-null    int64  \n",
            " 4   TEMPERATURE_MORNING_C   365 non-null    int64  \n",
            " 5   TEMPERATURE_NOON_C      365 non-null    int64  \n",
            " 6   TEMPERATURE_EVENING_C   365 non-null    int64  \n",
            " 7   PRECIP_TOTAL_DAY_MM     365 non-null    float64\n",
            " 8   HUMIDITY_MAX_PERCENT    365 non-null    int64  \n",
            " 9   VISIBILITY_AVG_KM       365 non-null    float64\n",
            " 10  PRESSURE_MAX_MB         365 non-null    int64  \n",
            " 11  CLOUDCOVER_AVG_PERCENT  365 non-null    float64\n",
            " 12  HEATINDEX_MAX_C         365 non-null    int64  \n",
            " 13  DEWPOINT_MAX_C          365 non-null    int64  \n",
            " 14  WINDTEMP_MAX_C          365 non-null    int64  \n",
            " 15  WEATHER_CODE_EVENING    341 non-null    float64\n",
            " 16  TOTAL_SNOW_MM           341 non-null    float64\n",
            " 17  UV_INDEX                341 non-null    float64\n",
            " 18  SUNHOUR                 341 non-null    float64\n",
            " 19  OPINION                 341 non-null    object \n",
            "dtypes: float64(7), int64(11), object(2)\n",
            "memory usage: 59.9+ KB\n"
          ]
        }
      ]
    },
    {
      "cell_type": "markdown",
      "metadata": {
        "id": "QAGXuKFWOVQo"
      },
      "source": [
        "# Linear regresssion\n",
        "There are some missing values in the \"Sunhour\" column, and you want to fill them.\n",
        "\n",
        "First, you have to split the DataFrame to have :\n",
        "- a DF with only rows without NaN, you'll call it \"df_clean\". This DF should have 341 rows and 20 columns.\n",
        "- a DF with only rows with NaN in the Sunhour column (The rows you want to fill), you'll call it \"df_nan\". This DF should have 24 rows and 20 columns.\n"
      ]
    },
    {
      "cell_type": "code",
      "metadata": {
        "id": "5zSWb0_ZPOmr",
        "colab": {
          "base_uri": "https://localhost:8080/"
        },
        "outputId": "2e0a0b4d-545b-4a2f-ab4d-ddb0599ac977"
      },
      "source": [
        "# Your code here :\n",
        "df_clean = df2018[df2018.SUNHOUR.notna()]\n",
        "print(\"Nb lignes :\", df_clean.shape[0])\n",
        "print(\"Nb colonnes :\", df_clean.shape[1])"
      ],
      "execution_count": null,
      "outputs": [
        {
          "output_type": "stream",
          "name": "stdout",
          "text": [
            "Nb lignes : 341\n",
            "Nb colonnes : 20\n"
          ]
        }
      ]
    },
    {
      "cell_type": "code",
      "source": [
        "df_nan = df2018[df2018.SUNHOUR.isna()]\n",
        "print(\"Nb lignes :\", df_nan.shape[0])\n",
        "print(\"Nb colonnes :\", df_nan.shape[1])"
      ],
      "metadata": {
        "colab": {
          "base_uri": "https://localhost:8080/"
        },
        "id": "7tuiapf6n4L3",
        "outputId": "5e50d590-a30a-4d0f-ec41-ff063641c0b8"
      },
      "execution_count": null,
      "outputs": [
        {
          "output_type": "stream",
          "name": "stdout",
          "text": [
            "Nb lignes : 24\n",
            "Nb colonnes : 20\n"
          ]
        }
      ]
    },
    {
      "cell_type": "markdown",
      "metadata": {
        "id": "WaI6fXfrPQTQ"
      },
      "source": [
        "## Now, train your model\n",
        "For this part, let's work on df_clean. \n",
        "With scikit-learn, find the multivariate linear regression model with the best score (remember to train-test-split your DataFrame \"df_clean\" before!). \n",
        "\n",
        "You are trying to predict `SUNHOUR`, so what's your target `y` ?\n",
        "\n",
        "Print the R2-score for the test set, and check if you don't have underfitting or overfitting."
      ]
    },
    {
      "cell_type": "code",
      "source": [
        "df_clean.columns"
      ],
      "metadata": {
        "colab": {
          "base_uri": "https://localhost:8080/"
        },
        "id": "ZPYXYbesqHn8",
        "outputId": "d2979a73-823a-41a2-e11e-910d7f2987b5"
      },
      "execution_count": null,
      "outputs": [
        {
          "output_type": "execute_result",
          "data": {
            "text/plain": [
              "Index(['DATE', 'MAX_TEMPERATURE_C', 'MIN_TEMPERATURE_C', 'WINDSPEED_MAX_KMH',\n",
              "       'TEMPERATURE_MORNING_C', 'TEMPERATURE_NOON_C', 'TEMPERATURE_EVENING_C',\n",
              "       'PRECIP_TOTAL_DAY_MM', 'HUMIDITY_MAX_PERCENT', 'VISIBILITY_AVG_KM',\n",
              "       'PRESSURE_MAX_MB', 'CLOUDCOVER_AVG_PERCENT', 'HEATINDEX_MAX_C',\n",
              "       'DEWPOINT_MAX_C', 'WINDTEMP_MAX_C', 'WEATHER_CODE_EVENING',\n",
              "       'TOTAL_SNOW_MM', 'UV_INDEX', 'SUNHOUR', 'OPINION'],\n",
              "      dtype='object')"
            ]
          },
          "metadata": {},
          "execution_count": 6
        }
      ]
    },
    {
      "cell_type": "code",
      "source": [
        "nulles = df_clean[df_clean.isnull().any(axis=1)]\n",
        "nulles.head()"
      ],
      "metadata": {
        "colab": {
          "base_uri": "https://localhost:8080/",
          "height": 113
        },
        "id": "XIMcj1n0DqmN",
        "outputId": "4f9c0bba-7ffb-4bc6-e1bd-487b1b0e9198"
      },
      "execution_count": null,
      "outputs": [
        {
          "output_type": "execute_result",
          "data": {
            "text/html": [
              "\n",
              "  <div id=\"df-d0d3129a-3eeb-4609-803f-69f9da7bc7b4\">\n",
              "    <div class=\"colab-df-container\">\n",
              "      <div>\n",
              "<style scoped>\n",
              "    .dataframe tbody tr th:only-of-type {\n",
              "        vertical-align: middle;\n",
              "    }\n",
              "\n",
              "    .dataframe tbody tr th {\n",
              "        vertical-align: top;\n",
              "    }\n",
              "\n",
              "    .dataframe thead th {\n",
              "        text-align: right;\n",
              "    }\n",
              "</style>\n",
              "<table border=\"1\" class=\"dataframe\">\n",
              "  <thead>\n",
              "    <tr style=\"text-align: right;\">\n",
              "      <th></th>\n",
              "      <th>DATE</th>\n",
              "      <th>MAX_TEMPERATURE_C</th>\n",
              "      <th>MIN_TEMPERATURE_C</th>\n",
              "      <th>WINDSPEED_MAX_KMH</th>\n",
              "      <th>TEMPERATURE_MORNING_C</th>\n",
              "      <th>TEMPERATURE_NOON_C</th>\n",
              "      <th>TEMPERATURE_EVENING_C</th>\n",
              "      <th>PRECIP_TOTAL_DAY_MM</th>\n",
              "      <th>HUMIDITY_MAX_PERCENT</th>\n",
              "      <th>VISIBILITY_AVG_KM</th>\n",
              "      <th>PRESSURE_MAX_MB</th>\n",
              "      <th>CLOUDCOVER_AVG_PERCENT</th>\n",
              "      <th>HEATINDEX_MAX_C</th>\n",
              "      <th>DEWPOINT_MAX_C</th>\n",
              "      <th>WINDTEMP_MAX_C</th>\n",
              "      <th>WEATHER_CODE_EVENING</th>\n",
              "      <th>TOTAL_SNOW_MM</th>\n",
              "      <th>UV_INDEX</th>\n",
              "      <th>SUNHOUR</th>\n",
              "      <th>OPINION</th>\n",
              "    </tr>\n",
              "  </thead>\n",
              "  <tbody>\n",
              "  </tbody>\n",
              "</table>\n",
              "</div>\n",
              "      <button class=\"colab-df-convert\" onclick=\"convertToInteractive('df-d0d3129a-3eeb-4609-803f-69f9da7bc7b4')\"\n",
              "              title=\"Convert this dataframe to an interactive table.\"\n",
              "              style=\"display:none;\">\n",
              "        \n",
              "  <svg xmlns=\"http://www.w3.org/2000/svg\" height=\"24px\"viewBox=\"0 0 24 24\"\n",
              "       width=\"24px\">\n",
              "    <path d=\"M0 0h24v24H0V0z\" fill=\"none\"/>\n",
              "    <path d=\"M18.56 5.44l.94 2.06.94-2.06 2.06-.94-2.06-.94-.94-2.06-.94 2.06-2.06.94zm-11 1L8.5 8.5l.94-2.06 2.06-.94-2.06-.94L8.5 2.5l-.94 2.06-2.06.94zm10 10l.94 2.06.94-2.06 2.06-.94-2.06-.94-.94-2.06-.94 2.06-2.06.94z\"/><path d=\"M17.41 7.96l-1.37-1.37c-.4-.4-.92-.59-1.43-.59-.52 0-1.04.2-1.43.59L10.3 9.45l-7.72 7.72c-.78.78-.78 2.05 0 2.83L4 21.41c.39.39.9.59 1.41.59.51 0 1.02-.2 1.41-.59l7.78-7.78 2.81-2.81c.8-.78.8-2.07 0-2.86zM5.41 20L4 18.59l7.72-7.72 1.47 1.35L5.41 20z\"/>\n",
              "  </svg>\n",
              "      </button>\n",
              "      \n",
              "  <style>\n",
              "    .colab-df-container {\n",
              "      display:flex;\n",
              "      flex-wrap:wrap;\n",
              "      gap: 12px;\n",
              "    }\n",
              "\n",
              "    .colab-df-convert {\n",
              "      background-color: #E8F0FE;\n",
              "      border: none;\n",
              "      border-radius: 50%;\n",
              "      cursor: pointer;\n",
              "      display: none;\n",
              "      fill: #1967D2;\n",
              "      height: 32px;\n",
              "      padding: 0 0 0 0;\n",
              "      width: 32px;\n",
              "    }\n",
              "\n",
              "    .colab-df-convert:hover {\n",
              "      background-color: #E2EBFA;\n",
              "      box-shadow: 0px 1px 2px rgba(60, 64, 67, 0.3), 0px 1px 3px 1px rgba(60, 64, 67, 0.15);\n",
              "      fill: #174EA6;\n",
              "    }\n",
              "\n",
              "    [theme=dark] .colab-df-convert {\n",
              "      background-color: #3B4455;\n",
              "      fill: #D2E3FC;\n",
              "    }\n",
              "\n",
              "    [theme=dark] .colab-df-convert:hover {\n",
              "      background-color: #434B5C;\n",
              "      box-shadow: 0px 1px 3px 1px rgba(0, 0, 0, 0.15);\n",
              "      filter: drop-shadow(0px 1px 2px rgba(0, 0, 0, 0.3));\n",
              "      fill: #FFFFFF;\n",
              "    }\n",
              "  </style>\n",
              "\n",
              "      <script>\n",
              "        const buttonEl =\n",
              "          document.querySelector('#df-d0d3129a-3eeb-4609-803f-69f9da7bc7b4 button.colab-df-convert');\n",
              "        buttonEl.style.display =\n",
              "          google.colab.kernel.accessAllowed ? 'block' : 'none';\n",
              "\n",
              "        async function convertToInteractive(key) {\n",
              "          const element = document.querySelector('#df-d0d3129a-3eeb-4609-803f-69f9da7bc7b4');\n",
              "          const dataTable =\n",
              "            await google.colab.kernel.invokeFunction('convertToInteractive',\n",
              "                                                     [key], {});\n",
              "          if (!dataTable) return;\n",
              "\n",
              "          const docLinkHtml = 'Like what you see? Visit the ' +\n",
              "            '<a target=\"_blank\" href=https://colab.research.google.com/notebooks/data_table.ipynb>data table notebook</a>'\n",
              "            + ' to learn more about interactive tables.';\n",
              "          element.innerHTML = '';\n",
              "          dataTable['output_type'] = 'display_data';\n",
              "          await google.colab.output.renderOutput(dataTable, element);\n",
              "          const docLink = document.createElement('div');\n",
              "          docLink.innerHTML = docLinkHtml;\n",
              "          element.appendChild(docLink);\n",
              "        }\n",
              "      </script>\n",
              "    </div>\n",
              "  </div>\n",
              "  "
            ],
            "text/plain": [
              "Empty DataFrame\n",
              "Columns: [DATE, MAX_TEMPERATURE_C, MIN_TEMPERATURE_C, WINDSPEED_MAX_KMH, TEMPERATURE_MORNING_C, TEMPERATURE_NOON_C, TEMPERATURE_EVENING_C, PRECIP_TOTAL_DAY_MM, HUMIDITY_MAX_PERCENT, VISIBILITY_AVG_KM, PRESSURE_MAX_MB, CLOUDCOVER_AVG_PERCENT, HEATINDEX_MAX_C, DEWPOINT_MAX_C, WINDTEMP_MAX_C, WEATHER_CODE_EVENING, TOTAL_SNOW_MM, UV_INDEX, SUNHOUR, OPINION]\n",
              "Index: []"
            ]
          },
          "metadata": {},
          "execution_count": 7
        }
      ]
    },
    {
      "cell_type": "markdown",
      "source": [
        "### I - 5 sélections différentes de variables explicatives, check score de la régression linéaire puis Train modèles."
      ],
      "metadata": {
        "id": "m30abjKTzKaT"
      }
    },
    {
      "cell_type": "code",
      "source": [
        "# Train sélection 2\n",
        "# Sélection, check score reg linéaire\n",
        "X = df_clean[['MAX_TEMPERATURE_C', 'MIN_TEMPERATURE_C',\n",
        "       'TEMPERATURE_MORNING_C', 'TEMPERATURE_NOON_C', 'TEMPERATURE_EVENING_C',\n",
        "       'PRECIP_TOTAL_DAY_MM', 'HUMIDITY_MAX_PERCENT', 'VISIBILITY_AVG_KM',\n",
        "       'PRESSURE_MAX_MB', 'CLOUDCOVER_AVG_PERCENT','DEWPOINT_MAX_C', \n",
        "       'WINDTEMP_MAX_C', 'TOTAL_SNOW_MM']]\n",
        "y = df_clean[\"SUNHOUR\"]\n",
        "\n",
        "model_2 = LinearRegression().fit(X, y)\n",
        "\n",
        "# train set to 75%, the rest is for the test set.\n",
        "X_train, X_test, y_train, y_test = train_test_split(X, y, random_state=42, train_size = 0.75)\n",
        "print(\"The length of the initial dataset is :\", len(X))\n",
        "print(\"The length of the train dataset is   :\", len(X_train))\n",
        "print(\"The length of the test dataset is    :\", len(X_test))\n",
        "\n",
        "# train the model only on the train dataset.\n",
        "newmodel_set_2 = LinearRegression().fit(X_train, y_train)\n",
        "\n",
        "# All scores :\n",
        "print(\"\\nScore for the Train dataset :\", newmodel_set_2.score(X_train, y_train))\n",
        "print(\"Score for the Test dataset :\", newmodel_set_2.score(X_test, y_test))\n",
        "print(\"Score initial linear regression :\", model_2.score(X, y))\n",
        "print(\"Diff train - test :\", newmodel_set_2.score(X_train, y_train) - newmodel_set_2.score(X_test, y_test))"
      ],
      "metadata": {
        "colab": {
          "base_uri": "https://localhost:8080/"
        },
        "id": "XoiCgKYp0_gK",
        "outputId": "2dcbdf9b-6ff3-4da1-8666-a6823fc942ad"
      },
      "execution_count": null,
      "outputs": [
        {
          "output_type": "stream",
          "name": "stdout",
          "text": [
            "The length of the initial dataset is : 341\n",
            "The length of the train dataset is   : 255\n",
            "The length of the test dataset is    : 86\n",
            "\n",
            "Score for the Train dataset : 0.7474357933647704\n",
            "Score for the Test dataset : 0.689691884494438\n",
            "Score initial linear regression : 0.7372831937306972\n",
            "Diff train - test : 0.05774390887033243\n"
          ]
        }
      ]
    },
    {
      "cell_type": "code",
      "source": [
        "\n",
        "# Train sélection 3\n",
        "# Sélection, check score reg linéaire\n",
        "X = df_clean[['MAX_TEMPERATURE_C', 'MIN_TEMPERATURE_C', 'WINDSPEED_MAX_KMH',\n",
        "       'TEMPERATURE_MORNING_C', 'TEMPERATURE_NOON_C', 'TEMPERATURE_EVENING_C',\n",
        "       'PRECIP_TOTAL_DAY_MM', 'HUMIDITY_MAX_PERCENT', 'VISIBILITY_AVG_KM',\n",
        "       'PRESSURE_MAX_MB', 'CLOUDCOVER_AVG_PERCENT', 'HEATINDEX_MAX_C',\n",
        "       'DEWPOINT_MAX_C', 'WINDTEMP_MAX_C', 'TOTAL_SNOW_MM', 'UV_INDEX']]\n",
        "y = df_clean[\"SUNHOUR\"]\n",
        "\n",
        "model_3 = LinearRegression().fit(X, y)\n",
        "\n",
        "# train set to 75%, the rest is for the test set.\n",
        "X_train, X_test, y_train, y_test = train_test_split(X, y, random_state=42, train_size = 0.75)\n",
        "print(\"The length of the initial dataset is :\", len(X))\n",
        "print(\"The length of the train dataset is   :\", len(X_train))\n",
        "print(\"The length of the test dataset is    :\", len(X_test))\n",
        "\n",
        "# train the model only on the train dataset.\n",
        "newmodel_set_3 = LinearRegression().fit(X_train, y_train)\n",
        "\n",
        "# All scores :\n",
        "print(\"\\nScore for the Train dataset :\", newmodel_set_3.score(X_train, y_train))\n",
        "print(\"Score for the Test dataset :\", newmodel_set_3.score(X_test, y_test))\n",
        "print(\"Score initial linear regression :\", model_3.score(X, y))\n",
        "print(\"Diff train - test :\", newmodel_set_3.score(X_train, y_train) - newmodel_set_3.score(X_test, y_test))"
      ],
      "metadata": {
        "colab": {
          "base_uri": "https://localhost:8080/"
        },
        "id": "kNTb7p1Y2bGY",
        "outputId": "ef7b1804-e354-4e23-a6aa-fd994fefcc9f"
      },
      "execution_count": null,
      "outputs": [
        {
          "output_type": "stream",
          "name": "stdout",
          "text": [
            "The length of the initial dataset is : 341\n",
            "The length of the train dataset is   : 255\n",
            "The length of the test dataset is    : 86\n",
            "\n",
            "Score for the Train dataset : 0.7491933701131687\n",
            "Score for the Test dataset : 0.6835006954470497\n",
            "Score initial linear regression : 0.7381232050311338\n",
            "Diff train - test : 0.06569267466611894\n"
          ]
        }
      ]
    },
    {
      "cell_type": "code",
      "source": [
        "# Train sélection 4\n",
        "# Sélection, check score reg linéaire\n",
        "X = df_clean[['MAX_TEMPERATURE_C', 'MIN_TEMPERATURE_C',\n",
        "       'TEMPERATURE_MORNING_C', 'TEMPERATURE_NOON_C', 'TEMPERATURE_EVENING_C',\n",
        "       'PRECIP_TOTAL_DAY_MM', 'HUMIDITY_MAX_PERCENT', 'VISIBILITY_AVG_KM',\n",
        "       'PRESSURE_MAX_MB', 'CLOUDCOVER_AVG_PERCENT','TOTAL_SNOW_MM']]\n",
        "y = df_clean[\"SUNHOUR\"]\n",
        "\n",
        "model_4 = LinearRegression().fit(X, y)\n",
        "\n",
        "# train set to 75%, the rest is for the test set.\n",
        "X_train, X_test, y_train, y_test = train_test_split(X, y, random_state=42, train_size = 0.75)\n",
        "print(\"The length of the initial dataset is :\", len(X))\n",
        "print(\"The length of the train dataset is   :\", len(X_train))\n",
        "print(\"The length of the test dataset is    :\", len(X_test))\n",
        "\n",
        "# train the model only on the train dataset.\n",
        "newmodel_set_4 = LinearRegression().fit(X_train, y_train)\n",
        "\n",
        "# All scores :\n",
        "print(\"\\nScore for the Train dataset :\", newmodel_set_4.score(X_train, y_train))\n",
        "print(\"Score for the Test dataset :\", newmodel_set_4.score(X_test, y_test))\n",
        "print(\"Score initial linear regression :\", model_4.score(X, y))\n",
        "print(\"Diff train - test :\", newmodel_set_4.score(X_train, y_train) - newmodel_set_4.score(X_test, y_test))"
      ],
      "metadata": {
        "colab": {
          "base_uri": "https://localhost:8080/"
        },
        "id": "eMJyz5nE1eYB",
        "outputId": "d574d396-d2b2-4d14-e16b-cb8df40f5b63"
      },
      "execution_count": null,
      "outputs": [
        {
          "output_type": "stream",
          "name": "stdout",
          "text": [
            "The length of the initial dataset is : 341\n",
            "The length of the train dataset is   : 255\n",
            "The length of the test dataset is    : 86\n",
            "\n",
            "Score for the Train dataset : 0.7430793561166024\n",
            "Score for the Test dataset : 0.6862299819176256\n",
            "Score initial linear regression : 0.7330885947451047\n",
            "Diff train - test : 0.05684937419897673\n"
          ]
        }
      ]
    },
    {
      "cell_type": "code",
      "source": [
        "# Train sélection 5\n",
        "# Sélection, check score reg linéaire\n",
        "X = df_clean[['TEMPERATURE_MORNING_C', 'TEMPERATURE_NOON_C', 'TEMPERATURE_EVENING_C',\n",
        "       'PRECIP_TOTAL_DAY_MM', 'HUMIDITY_MAX_PERCENT', 'VISIBILITY_AVG_KM',\n",
        "       'PRESSURE_MAX_MB', 'CLOUDCOVER_AVG_PERCENT','TOTAL_SNOW_MM']]\n",
        "y = df_clean[\"SUNHOUR\"]\n",
        "\n",
        "model_5 = LinearRegression().fit(X, y)\n",
        "\n",
        "# train set to 75%, the rest is for the test set.\n",
        "X_train, X_test, y_train, y_test = train_test_split(X, y, random_state=42, train_size = 0.75)\n",
        "print(\"The length of the initial dataset is :\", len(X))\n",
        "print(\"The length of the train dataset is   :\", len(X_train))\n",
        "print(\"The length of the test dataset is    :\", len(X_test))\n",
        "\n",
        "# train the model only on the train dataset.\n",
        "newmodel_set_5 = LinearRegression().fit(X_train, y_train)\n",
        "\n",
        "# All scores :\n",
        "print(\"\\nScore for the Train dataset :\", newmodel_set_5.score(X_train, y_train))\n",
        "print(\"Score for the Test dataset :\", newmodel_set_5.score(X_test, y_test))\n",
        "print(\"Score initial linear regression :\", model_5.score(X, y))\n",
        "print(\"Diff train - test :\", newmodel_set_5.score(X_train, y_train) - newmodel_set_5.score(X_test, y_test))"
      ],
      "metadata": {
        "colab": {
          "base_uri": "https://localhost:8080/"
        },
        "id": "qaktSQuD3RAR",
        "outputId": "1eda11b7-26c1-43e9-85c3-aa211aee77ed"
      },
      "execution_count": null,
      "outputs": [
        {
          "output_type": "stream",
          "name": "stdout",
          "text": [
            "The length of the initial dataset is : 341\n",
            "The length of the train dataset is   : 255\n",
            "The length of the test dataset is    : 86\n",
            "\n",
            "Score for the Train dataset : 0.7098904958388152\n",
            "Score for the Test dataset : 0.6299126549239128\n",
            "Score initial linear regression : 0.6943081832649662\n",
            "Diff train - test : 0.07997784091490245\n"
          ]
        }
      ]
    },
    {
      "cell_type": "code",
      "source": [
        "\n",
        "# !!!!!!!!!!!!!!!!!!!!!!!!!!!!!!! WINNER WINNER WINNER WINNER WINNER WINNER WINNER !!!!!!!!!!!!!!!!!!!!!!!!!!!!!!!!!! :)\n",
        "\n",
        "# Train sélection 1\n",
        "# Sélection, check score reg linéaire\n",
        "X = df_clean[['MAX_TEMPERATURE_C', 'MIN_TEMPERATURE_C', 'WINDSPEED_MAX_KMH',\n",
        "       'TEMPERATURE_MORNING_C', 'TEMPERATURE_NOON_C', 'TEMPERATURE_EVENING_C',\n",
        "       'PRECIP_TOTAL_DAY_MM', 'HUMIDITY_MAX_PERCENT', 'VISIBILITY_AVG_KM',\n",
        "       'PRESSURE_MAX_MB', 'CLOUDCOVER_AVG_PERCENT', 'DEWPOINT_MAX_C', \n",
        "       'WINDTEMP_MAX_C']]\n",
        "y = df_clean[\"SUNHOUR\"]\n",
        "\n",
        "model_1 = LinearRegression().fit(X, y)\n",
        "\n",
        "# train set to 75%, the rest is for the test set.\n",
        "X_train, X_test, y_train, y_test = train_test_split(X, y, random_state=42, train_size = 0.75)\n",
        "print(\"The length of the initial dataset is :\", len(X))\n",
        "print(\"The length of the train dataset is   :\", len(X_train))\n",
        "print(\"The length of the test dataset is    :\", len(X_test))\n",
        "\n",
        "# train the model only on the train dataset.\n",
        "newmodel_set_1 = LinearRegression().fit(X_train, y_train)\n",
        "\n",
        "# All scores :\n",
        "print(\"\\nScore for the Train dataset :\", newmodel_set_1.score(X_train, y_train))\n",
        "print(\"Score for the Test dataset :\", newmodel_set_1.score(X_test, y_test))\n",
        "print(\"Score initial linear regression :\", model_1.score(X, y))\n",
        "print(\"Diff train - test :\", newmodel_set_1.score(X_train, y_train) - newmodel_set_1.score(X_test, y_test))"
      ],
      "metadata": {
        "colab": {
          "base_uri": "https://localhost:8080/"
        },
        "id": "f1vt0ZXrzTNH",
        "outputId": "b98b405b-8de4-4fbe-d900-37ea62ac5d4a"
      },
      "execution_count": null,
      "outputs": [
        {
          "output_type": "stream",
          "name": "stdout",
          "text": [
            "The length of the initial dataset is : 341\n",
            "The length of the train dataset is   : 255\n",
            "The length of the test dataset is    : 86\n",
            "\n",
            "Score for the Train dataset : 0.7477434373015582\n",
            "Score for the Test dataset : 0.6915190214995932\n",
            "Score initial linear regression : 0.737902902781328\n",
            "Diff train - test : 0.05622441580196502\n"
          ]
        }
      ]
    },
    {
      "cell_type": "markdown",
      "metadata": {
        "id": "c8oMykbkPnln"
      },
      "source": [
        "## Predictions\n",
        "Predict the sunhours values for your DF \"df_nan\", and store result in the `SUNHOUR` column (which is empty, because this is `df_nan`)."
      ]
    },
    {
      "cell_type": "code",
      "source": [
        "df_nan.columns"
      ],
      "metadata": {
        "colab": {
          "base_uri": "https://localhost:8080/"
        },
        "id": "Ja84db32Y6VM",
        "outputId": "08918ecc-e09c-48e3-9681-bcd47e317ffb"
      },
      "execution_count": null,
      "outputs": [
        {
          "output_type": "execute_result",
          "data": {
            "text/plain": [
              "Index(['DATE', 'MAX_TEMPERATURE_C', 'MIN_TEMPERATURE_C', 'WINDSPEED_MAX_KMH',\n",
              "       'TEMPERATURE_MORNING_C', 'TEMPERATURE_NOON_C', 'TEMPERATURE_EVENING_C',\n",
              "       'PRECIP_TOTAL_DAY_MM', 'HUMIDITY_MAX_PERCENT', 'VISIBILITY_AVG_KM',\n",
              "       'PRESSURE_MAX_MB', 'CLOUDCOVER_AVG_PERCENT', 'HEATINDEX_MAX_C',\n",
              "       'DEWPOINT_MAX_C', 'WINDTEMP_MAX_C', 'WEATHER_CODE_EVENING',\n",
              "       'TOTAL_SNOW_MM', 'UV_INDEX', 'SUNHOUR', 'OPINION'],\n",
              "      dtype='object')"
            ]
          },
          "metadata": {},
          "execution_count": 13
        }
      ]
    },
    {
      "cell_type": "code",
      "source": [
        "df_clean.columns"
      ],
      "metadata": {
        "colab": {
          "base_uri": "https://localhost:8080/"
        },
        "id": "D-jEFqzZd5C_",
        "outputId": "3a219535-f386-40b5-e06a-24eb2afce627"
      },
      "execution_count": null,
      "outputs": [
        {
          "output_type": "execute_result",
          "data": {
            "text/plain": [
              "Index(['DATE', 'MAX_TEMPERATURE_C', 'MIN_TEMPERATURE_C', 'WINDSPEED_MAX_KMH',\n",
              "       'TEMPERATURE_MORNING_C', 'TEMPERATURE_NOON_C', 'TEMPERATURE_EVENING_C',\n",
              "       'PRECIP_TOTAL_DAY_MM', 'HUMIDITY_MAX_PERCENT', 'VISIBILITY_AVG_KM',\n",
              "       'PRESSURE_MAX_MB', 'CLOUDCOVER_AVG_PERCENT', 'HEATINDEX_MAX_C',\n",
              "       'DEWPOINT_MAX_C', 'WINDTEMP_MAX_C', 'WEATHER_CODE_EVENING',\n",
              "       'TOTAL_SNOW_MM', 'UV_INDEX', 'SUNHOUR', 'OPINION'],\n",
              "      dtype='object')"
            ]
          },
          "metadata": {},
          "execution_count": 14
        }
      ]
    },
    {
      "cell_type": "code",
      "metadata": {
        "id": "C9v8hZkDQQeC",
        "colab": {
          "base_uri": "https://localhost:8080/"
        },
        "outputId": "e810f0b2-9d94-447f-e1e3-7347b27da296"
      },
      "source": [
        "# Your code here :\n",
        "# Train sélection 1\n",
        "df_nan.SUNHOUR = model_1.predict(df_nan[['MAX_TEMPERATURE_C', 'MIN_TEMPERATURE_C', 'WINDSPEED_MAX_KMH',\n",
        "       'TEMPERATURE_MORNING_C', 'TEMPERATURE_NOON_C', 'TEMPERATURE_EVENING_C',\n",
        "       'PRECIP_TOTAL_DAY_MM', 'HUMIDITY_MAX_PERCENT', 'VISIBILITY_AVG_KM',\n",
        "       'PRESSURE_MAX_MB', 'CLOUDCOVER_AVG_PERCENT', 'DEWPOINT_MAX_C', \n",
        "       'WINDTEMP_MAX_C']])\n",
        "\n",
        "# arrondi du resultat\n",
        "df_nan.SUNHOUR = round(df_nan.SUNHOUR, 1)\n"
      ],
      "execution_count": null,
      "outputs": [
        {
          "output_type": "stream",
          "name": "stderr",
          "text": [
            "/usr/local/lib/python3.7/dist-packages/pandas/core/generic.py:5170: SettingWithCopyWarning: \n",
            "A value is trying to be set on a copy of a slice from a DataFrame.\n",
            "Try using .loc[row_indexer,col_indexer] = value instead\n",
            "\n",
            "See the caveats in the documentation: https://pandas.pydata.org/pandas-docs/stable/user_guide/indexing.html#returning-a-view-versus-a-copy\n",
            "  self[name] = value\n"
          ]
        }
      ]
    },
    {
      "cell_type": "code",
      "source": [
        "# check df\n",
        "df_nan.head(2)\n"
      ],
      "metadata": {
        "colab": {
          "base_uri": "https://localhost:8080/",
          "height": 211
        },
        "id": "PKccbHjhdKoX",
        "outputId": "a5b9d640-013f-4c19-ef69-9da0cb5a134d"
      },
      "execution_count": null,
      "outputs": [
        {
          "output_type": "execute_result",
          "data": {
            "text/html": [
              "\n",
              "  <div id=\"df-a8ea1d64-192a-407f-9e9d-a9fefa45fb4d\">\n",
              "    <div class=\"colab-df-container\">\n",
              "      <div>\n",
              "<style scoped>\n",
              "    .dataframe tbody tr th:only-of-type {\n",
              "        vertical-align: middle;\n",
              "    }\n",
              "\n",
              "    .dataframe tbody tr th {\n",
              "        vertical-align: top;\n",
              "    }\n",
              "\n",
              "    .dataframe thead th {\n",
              "        text-align: right;\n",
              "    }\n",
              "</style>\n",
              "<table border=\"1\" class=\"dataframe\">\n",
              "  <thead>\n",
              "    <tr style=\"text-align: right;\">\n",
              "      <th></th>\n",
              "      <th>DATE</th>\n",
              "      <th>MAX_TEMPERATURE_C</th>\n",
              "      <th>MIN_TEMPERATURE_C</th>\n",
              "      <th>WINDSPEED_MAX_KMH</th>\n",
              "      <th>TEMPERATURE_MORNING_C</th>\n",
              "      <th>TEMPERATURE_NOON_C</th>\n",
              "      <th>TEMPERATURE_EVENING_C</th>\n",
              "      <th>PRECIP_TOTAL_DAY_MM</th>\n",
              "      <th>HUMIDITY_MAX_PERCENT</th>\n",
              "      <th>VISIBILITY_AVG_KM</th>\n",
              "      <th>PRESSURE_MAX_MB</th>\n",
              "      <th>CLOUDCOVER_AVG_PERCENT</th>\n",
              "      <th>HEATINDEX_MAX_C</th>\n",
              "      <th>DEWPOINT_MAX_C</th>\n",
              "      <th>WINDTEMP_MAX_C</th>\n",
              "      <th>WEATHER_CODE_EVENING</th>\n",
              "      <th>TOTAL_SNOW_MM</th>\n",
              "      <th>UV_INDEX</th>\n",
              "      <th>SUNHOUR</th>\n",
              "      <th>OPINION</th>\n",
              "    </tr>\n",
              "  </thead>\n",
              "  <tbody>\n",
              "    <tr>\n",
              "      <th>18</th>\n",
              "      <td>2018-01-19</td>\n",
              "      <td>10</td>\n",
              "      <td>6</td>\n",
              "      <td>23</td>\n",
              "      <td>6</td>\n",
              "      <td>10</td>\n",
              "      <td>6</td>\n",
              "      <td>0.7</td>\n",
              "      <td>88</td>\n",
              "      <td>9.875</td>\n",
              "      <td>1020</td>\n",
              "      <td>37.0</td>\n",
              "      <td>10</td>\n",
              "      <td>6</td>\n",
              "      <td>5</td>\n",
              "      <td>NaN</td>\n",
              "      <td>NaN</td>\n",
              "      <td>NaN</td>\n",
              "      <td>7.4</td>\n",
              "      <td>NaN</td>\n",
              "    </tr>\n",
              "    <tr>\n",
              "      <th>31</th>\n",
              "      <td>2018-02-01</td>\n",
              "      <td>8</td>\n",
              "      <td>3</td>\n",
              "      <td>17</td>\n",
              "      <td>4</td>\n",
              "      <td>8</td>\n",
              "      <td>4</td>\n",
              "      <td>0.2</td>\n",
              "      <td>81</td>\n",
              "      <td>10.000</td>\n",
              "      <td>1012</td>\n",
              "      <td>39.5</td>\n",
              "      <td>8</td>\n",
              "      <td>3</td>\n",
              "      <td>2</td>\n",
              "      <td>NaN</td>\n",
              "      <td>NaN</td>\n",
              "      <td>NaN</td>\n",
              "      <td>8.2</td>\n",
              "      <td>NaN</td>\n",
              "    </tr>\n",
              "  </tbody>\n",
              "</table>\n",
              "</div>\n",
              "      <button class=\"colab-df-convert\" onclick=\"convertToInteractive('df-a8ea1d64-192a-407f-9e9d-a9fefa45fb4d')\"\n",
              "              title=\"Convert this dataframe to an interactive table.\"\n",
              "              style=\"display:none;\">\n",
              "        \n",
              "  <svg xmlns=\"http://www.w3.org/2000/svg\" height=\"24px\"viewBox=\"0 0 24 24\"\n",
              "       width=\"24px\">\n",
              "    <path d=\"M0 0h24v24H0V0z\" fill=\"none\"/>\n",
              "    <path d=\"M18.56 5.44l.94 2.06.94-2.06 2.06-.94-2.06-.94-.94-2.06-.94 2.06-2.06.94zm-11 1L8.5 8.5l.94-2.06 2.06-.94-2.06-.94L8.5 2.5l-.94 2.06-2.06.94zm10 10l.94 2.06.94-2.06 2.06-.94-2.06-.94-.94-2.06-.94 2.06-2.06.94z\"/><path d=\"M17.41 7.96l-1.37-1.37c-.4-.4-.92-.59-1.43-.59-.52 0-1.04.2-1.43.59L10.3 9.45l-7.72 7.72c-.78.78-.78 2.05 0 2.83L4 21.41c.39.39.9.59 1.41.59.51 0 1.02-.2 1.41-.59l7.78-7.78 2.81-2.81c.8-.78.8-2.07 0-2.86zM5.41 20L4 18.59l7.72-7.72 1.47 1.35L5.41 20z\"/>\n",
              "  </svg>\n",
              "      </button>\n",
              "      \n",
              "  <style>\n",
              "    .colab-df-container {\n",
              "      display:flex;\n",
              "      flex-wrap:wrap;\n",
              "      gap: 12px;\n",
              "    }\n",
              "\n",
              "    .colab-df-convert {\n",
              "      background-color: #E8F0FE;\n",
              "      border: none;\n",
              "      border-radius: 50%;\n",
              "      cursor: pointer;\n",
              "      display: none;\n",
              "      fill: #1967D2;\n",
              "      height: 32px;\n",
              "      padding: 0 0 0 0;\n",
              "      width: 32px;\n",
              "    }\n",
              "\n",
              "    .colab-df-convert:hover {\n",
              "      background-color: #E2EBFA;\n",
              "      box-shadow: 0px 1px 2px rgba(60, 64, 67, 0.3), 0px 1px 3px 1px rgba(60, 64, 67, 0.15);\n",
              "      fill: #174EA6;\n",
              "    }\n",
              "\n",
              "    [theme=dark] .colab-df-convert {\n",
              "      background-color: #3B4455;\n",
              "      fill: #D2E3FC;\n",
              "    }\n",
              "\n",
              "    [theme=dark] .colab-df-convert:hover {\n",
              "      background-color: #434B5C;\n",
              "      box-shadow: 0px 1px 3px 1px rgba(0, 0, 0, 0.15);\n",
              "      filter: drop-shadow(0px 1px 2px rgba(0, 0, 0, 0.3));\n",
              "      fill: #FFFFFF;\n",
              "    }\n",
              "  </style>\n",
              "\n",
              "      <script>\n",
              "        const buttonEl =\n",
              "          document.querySelector('#df-a8ea1d64-192a-407f-9e9d-a9fefa45fb4d button.colab-df-convert');\n",
              "        buttonEl.style.display =\n",
              "          google.colab.kernel.accessAllowed ? 'block' : 'none';\n",
              "\n",
              "        async function convertToInteractive(key) {\n",
              "          const element = document.querySelector('#df-a8ea1d64-192a-407f-9e9d-a9fefa45fb4d');\n",
              "          const dataTable =\n",
              "            await google.colab.kernel.invokeFunction('convertToInteractive',\n",
              "                                                     [key], {});\n",
              "          if (!dataTable) return;\n",
              "\n",
              "          const docLinkHtml = 'Like what you see? Visit the ' +\n",
              "            '<a target=\"_blank\" href=https://colab.research.google.com/notebooks/data_table.ipynb>data table notebook</a>'\n",
              "            + ' to learn more about interactive tables.';\n",
              "          element.innerHTML = '';\n",
              "          dataTable['output_type'] = 'display_data';\n",
              "          await google.colab.output.renderOutput(dataTable, element);\n",
              "          const docLink = document.createElement('div');\n",
              "          docLink.innerHTML = docLinkHtml;\n",
              "          element.appendChild(docLink);\n",
              "        }\n",
              "      </script>\n",
              "    </div>\n",
              "  </div>\n",
              "  "
            ],
            "text/plain": [
              "          DATE  MAX_TEMPERATURE_C  MIN_TEMPERATURE_C  ...  UV_INDEX  SUNHOUR  OPINION\n",
              "18  2018-01-19                 10                  6  ...       NaN      7.4      NaN\n",
              "31  2018-02-01                  8                  3  ...       NaN      8.2      NaN\n",
              "\n",
              "[2 rows x 20 columns]"
            ]
          },
          "metadata": {},
          "execution_count": 16
        }
      ]
    },
    {
      "cell_type": "code",
      "source": [
        "df_clean.head(2)"
      ],
      "metadata": {
        "colab": {
          "base_uri": "https://localhost:8080/",
          "height": 211
        },
        "id": "ZARunEb6fTHl",
        "outputId": "4bc6f7e2-3b2f-4382-cdd9-fcb248e3ca74"
      },
      "execution_count": null,
      "outputs": [
        {
          "output_type": "execute_result",
          "data": {
            "text/html": [
              "\n",
              "  <div id=\"df-8b826c43-fff8-48ac-99d1-ecba506db16e\">\n",
              "    <div class=\"colab-df-container\">\n",
              "      <div>\n",
              "<style scoped>\n",
              "    .dataframe tbody tr th:only-of-type {\n",
              "        vertical-align: middle;\n",
              "    }\n",
              "\n",
              "    .dataframe tbody tr th {\n",
              "        vertical-align: top;\n",
              "    }\n",
              "\n",
              "    .dataframe thead th {\n",
              "        text-align: right;\n",
              "    }\n",
              "</style>\n",
              "<table border=\"1\" class=\"dataframe\">\n",
              "  <thead>\n",
              "    <tr style=\"text-align: right;\">\n",
              "      <th></th>\n",
              "      <th>DATE</th>\n",
              "      <th>MAX_TEMPERATURE_C</th>\n",
              "      <th>MIN_TEMPERATURE_C</th>\n",
              "      <th>WINDSPEED_MAX_KMH</th>\n",
              "      <th>TEMPERATURE_MORNING_C</th>\n",
              "      <th>TEMPERATURE_NOON_C</th>\n",
              "      <th>TEMPERATURE_EVENING_C</th>\n",
              "      <th>PRECIP_TOTAL_DAY_MM</th>\n",
              "      <th>HUMIDITY_MAX_PERCENT</th>\n",
              "      <th>VISIBILITY_AVG_KM</th>\n",
              "      <th>PRESSURE_MAX_MB</th>\n",
              "      <th>CLOUDCOVER_AVG_PERCENT</th>\n",
              "      <th>HEATINDEX_MAX_C</th>\n",
              "      <th>DEWPOINT_MAX_C</th>\n",
              "      <th>WINDTEMP_MAX_C</th>\n",
              "      <th>WEATHER_CODE_EVENING</th>\n",
              "      <th>TOTAL_SNOW_MM</th>\n",
              "      <th>UV_INDEX</th>\n",
              "      <th>SUNHOUR</th>\n",
              "      <th>OPINION</th>\n",
              "    </tr>\n",
              "  </thead>\n",
              "  <tbody>\n",
              "    <tr>\n",
              "      <th>0</th>\n",
              "      <td>2018-01-01</td>\n",
              "      <td>12</td>\n",
              "      <td>8</td>\n",
              "      <td>61</td>\n",
              "      <td>9</td>\n",
              "      <td>11</td>\n",
              "      <td>8</td>\n",
              "      <td>8.9</td>\n",
              "      <td>79</td>\n",
              "      <td>9.5</td>\n",
              "      <td>1018</td>\n",
              "      <td>41.750</td>\n",
              "      <td>12</td>\n",
              "      <td>8</td>\n",
              "      <td>7</td>\n",
              "      <td>113.0</td>\n",
              "      <td>0.0</td>\n",
              "      <td>3.0</td>\n",
              "      <td>5.1</td>\n",
              "      <td>bad</td>\n",
              "    </tr>\n",
              "    <tr>\n",
              "      <th>1</th>\n",
              "      <td>2018-01-02</td>\n",
              "      <td>13</td>\n",
              "      <td>6</td>\n",
              "      <td>26</td>\n",
              "      <td>8</td>\n",
              "      <td>12</td>\n",
              "      <td>13</td>\n",
              "      <td>0.6</td>\n",
              "      <td>96</td>\n",
              "      <td>9.0</td>\n",
              "      <td>1020</td>\n",
              "      <td>87.875</td>\n",
              "      <td>13</td>\n",
              "      <td>12</td>\n",
              "      <td>6</td>\n",
              "      <td>122.0</td>\n",
              "      <td>0.0</td>\n",
              "      <td>3.0</td>\n",
              "      <td>3.3</td>\n",
              "      <td>bad</td>\n",
              "    </tr>\n",
              "  </tbody>\n",
              "</table>\n",
              "</div>\n",
              "      <button class=\"colab-df-convert\" onclick=\"convertToInteractive('df-8b826c43-fff8-48ac-99d1-ecba506db16e')\"\n",
              "              title=\"Convert this dataframe to an interactive table.\"\n",
              "              style=\"display:none;\">\n",
              "        \n",
              "  <svg xmlns=\"http://www.w3.org/2000/svg\" height=\"24px\"viewBox=\"0 0 24 24\"\n",
              "       width=\"24px\">\n",
              "    <path d=\"M0 0h24v24H0V0z\" fill=\"none\"/>\n",
              "    <path d=\"M18.56 5.44l.94 2.06.94-2.06 2.06-.94-2.06-.94-.94-2.06-.94 2.06-2.06.94zm-11 1L8.5 8.5l.94-2.06 2.06-.94-2.06-.94L8.5 2.5l-.94 2.06-2.06.94zm10 10l.94 2.06.94-2.06 2.06-.94-2.06-.94-.94-2.06-.94 2.06-2.06.94z\"/><path d=\"M17.41 7.96l-1.37-1.37c-.4-.4-.92-.59-1.43-.59-.52 0-1.04.2-1.43.59L10.3 9.45l-7.72 7.72c-.78.78-.78 2.05 0 2.83L4 21.41c.39.39.9.59 1.41.59.51 0 1.02-.2 1.41-.59l7.78-7.78 2.81-2.81c.8-.78.8-2.07 0-2.86zM5.41 20L4 18.59l7.72-7.72 1.47 1.35L5.41 20z\"/>\n",
              "  </svg>\n",
              "      </button>\n",
              "      \n",
              "  <style>\n",
              "    .colab-df-container {\n",
              "      display:flex;\n",
              "      flex-wrap:wrap;\n",
              "      gap: 12px;\n",
              "    }\n",
              "\n",
              "    .colab-df-convert {\n",
              "      background-color: #E8F0FE;\n",
              "      border: none;\n",
              "      border-radius: 50%;\n",
              "      cursor: pointer;\n",
              "      display: none;\n",
              "      fill: #1967D2;\n",
              "      height: 32px;\n",
              "      padding: 0 0 0 0;\n",
              "      width: 32px;\n",
              "    }\n",
              "\n",
              "    .colab-df-convert:hover {\n",
              "      background-color: #E2EBFA;\n",
              "      box-shadow: 0px 1px 2px rgba(60, 64, 67, 0.3), 0px 1px 3px 1px rgba(60, 64, 67, 0.15);\n",
              "      fill: #174EA6;\n",
              "    }\n",
              "\n",
              "    [theme=dark] .colab-df-convert {\n",
              "      background-color: #3B4455;\n",
              "      fill: #D2E3FC;\n",
              "    }\n",
              "\n",
              "    [theme=dark] .colab-df-convert:hover {\n",
              "      background-color: #434B5C;\n",
              "      box-shadow: 0px 1px 3px 1px rgba(0, 0, 0, 0.15);\n",
              "      filter: drop-shadow(0px 1px 2px rgba(0, 0, 0, 0.3));\n",
              "      fill: #FFFFFF;\n",
              "    }\n",
              "  </style>\n",
              "\n",
              "      <script>\n",
              "        const buttonEl =\n",
              "          document.querySelector('#df-8b826c43-fff8-48ac-99d1-ecba506db16e button.colab-df-convert');\n",
              "        buttonEl.style.display =\n",
              "          google.colab.kernel.accessAllowed ? 'block' : 'none';\n",
              "\n",
              "        async function convertToInteractive(key) {\n",
              "          const element = document.querySelector('#df-8b826c43-fff8-48ac-99d1-ecba506db16e');\n",
              "          const dataTable =\n",
              "            await google.colab.kernel.invokeFunction('convertToInteractive',\n",
              "                                                     [key], {});\n",
              "          if (!dataTable) return;\n",
              "\n",
              "          const docLinkHtml = 'Like what you see? Visit the ' +\n",
              "            '<a target=\"_blank\" href=https://colab.research.google.com/notebooks/data_table.ipynb>data table notebook</a>'\n",
              "            + ' to learn more about interactive tables.';\n",
              "          element.innerHTML = '';\n",
              "          dataTable['output_type'] = 'display_data';\n",
              "          await google.colab.output.renderOutput(dataTable, element);\n",
              "          const docLink = document.createElement('div');\n",
              "          docLink.innerHTML = docLinkHtml;\n",
              "          element.appendChild(docLink);\n",
              "        }\n",
              "      </script>\n",
              "    </div>\n",
              "  </div>\n",
              "  "
            ],
            "text/plain": [
              "         DATE  MAX_TEMPERATURE_C  MIN_TEMPERATURE_C  ...  UV_INDEX  SUNHOUR  OPINION\n",
              "0  2018-01-01                 12                  8  ...       3.0      5.1      bad\n",
              "1  2018-01-02                 13                  6  ...       3.0      3.3      bad\n",
              "\n",
              "[2 rows x 20 columns]"
            ]
          },
          "metadata": {},
          "execution_count": 17
        }
      ]
    },
    {
      "cell_type": "markdown",
      "metadata": {
        "id": "HTBZvFyIQhHo"
      },
      "source": [
        "## Concatenate and scatterplot\n",
        "\n",
        "Concatenate both DataFrames to a new one \"df2018complete\", and draw a scatterplot with Date on X-axis and Sunhours on Y-axis.\n",
        "Try to add a flag to identify real values and predicted values. \n",
        "\n",
        "You should get something like that. Of course, not exactly the same chart, because we don't train the same model, on the same columns, etc...\n",
        "\n",
        "![Capture d’écran 2020-11-04 à 09.37.57.png](data:image/png;base64,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)"
      ]
    },
    {
      "cell_type": "code",
      "metadata": {
        "id": "35B7SggmQy_C"
      },
      "source": [
        "# concatenate both df\n",
        "df2018complet = pd.concat([df_clean, df_nan])"
      ],
      "execution_count": null,
      "outputs": []
    },
    {
      "cell_type": "code",
      "source": [
        "df2018complet.info()"
      ],
      "metadata": {
        "colab": {
          "base_uri": "https://localhost:8080/"
        },
        "id": "AP-qsNiqkNPa",
        "outputId": "7b2a3697-673d-4e1f-b756-046fa557d0b3"
      },
      "execution_count": null,
      "outputs": [
        {
          "output_type": "stream",
          "name": "stdout",
          "text": [
            "<class 'pandas.core.frame.DataFrame'>\n",
            "Int64Index: 365 entries, 0 to 349\n",
            "Data columns (total 20 columns):\n",
            " #   Column                  Non-Null Count  Dtype  \n",
            "---  ------                  --------------  -----  \n",
            " 0   DATE                    365 non-null    object \n",
            " 1   MAX_TEMPERATURE_C       365 non-null    int64  \n",
            " 2   MIN_TEMPERATURE_C       365 non-null    int64  \n",
            " 3   WINDSPEED_MAX_KMH       365 non-null    int64  \n",
            " 4   TEMPERATURE_MORNING_C   365 non-null    int64  \n",
            " 5   TEMPERATURE_NOON_C      365 non-null    int64  \n",
            " 6   TEMPERATURE_EVENING_C   365 non-null    int64  \n",
            " 7   PRECIP_TOTAL_DAY_MM     365 non-null    float64\n",
            " 8   HUMIDITY_MAX_PERCENT    365 non-null    int64  \n",
            " 9   VISIBILITY_AVG_KM       365 non-null    float64\n",
            " 10  PRESSURE_MAX_MB         365 non-null    int64  \n",
            " 11  CLOUDCOVER_AVG_PERCENT  365 non-null    float64\n",
            " 12  HEATINDEX_MAX_C         365 non-null    int64  \n",
            " 13  DEWPOINT_MAX_C          365 non-null    int64  \n",
            " 14  WINDTEMP_MAX_C          365 non-null    int64  \n",
            " 15  WEATHER_CODE_EVENING    341 non-null    float64\n",
            " 16  TOTAL_SNOW_MM           341 non-null    float64\n",
            " 17  UV_INDEX                341 non-null    float64\n",
            " 18  SUNHOUR                 365 non-null    float64\n",
            " 19  OPINION                 341 non-null    object \n",
            "dtypes: float64(7), int64(11), object(2)\n",
            "memory usage: 59.9+ KB\n"
          ]
        }
      ]
    },
    {
      "cell_type": "code",
      "source": [
        "# flag colonne predict si opinion nan\n",
        "df2018complet[\"flag_predict\"] = df2018complet.OPINION.isna()\n",
        "df2018complet[\"flag_predict\"] = np.where(df2018complet.flag_predict == True, \"predicted value\", \"real value\")\n",
        "df2018complet.head(2)"
      ],
      "metadata": {
        "colab": {
          "base_uri": "https://localhost:8080/",
          "height": 211
        },
        "id": "kdUsaG8UkSWo",
        "outputId": "6711c093-2b98-4cac-d8b6-5feb71059dc5"
      },
      "execution_count": null,
      "outputs": [
        {
          "output_type": "execute_result",
          "data": {
            "text/html": [
              "\n",
              "  <div id=\"df-6f82defd-cf1b-4f12-b0a5-f898016df8f0\">\n",
              "    <div class=\"colab-df-container\">\n",
              "      <div>\n",
              "<style scoped>\n",
              "    .dataframe tbody tr th:only-of-type {\n",
              "        vertical-align: middle;\n",
              "    }\n",
              "\n",
              "    .dataframe tbody tr th {\n",
              "        vertical-align: top;\n",
              "    }\n",
              "\n",
              "    .dataframe thead th {\n",
              "        text-align: right;\n",
              "    }\n",
              "</style>\n",
              "<table border=\"1\" class=\"dataframe\">\n",
              "  <thead>\n",
              "    <tr style=\"text-align: right;\">\n",
              "      <th></th>\n",
              "      <th>DATE</th>\n",
              "      <th>MAX_TEMPERATURE_C</th>\n",
              "      <th>MIN_TEMPERATURE_C</th>\n",
              "      <th>WINDSPEED_MAX_KMH</th>\n",
              "      <th>TEMPERATURE_MORNING_C</th>\n",
              "      <th>TEMPERATURE_NOON_C</th>\n",
              "      <th>TEMPERATURE_EVENING_C</th>\n",
              "      <th>PRECIP_TOTAL_DAY_MM</th>\n",
              "      <th>HUMIDITY_MAX_PERCENT</th>\n",
              "      <th>VISIBILITY_AVG_KM</th>\n",
              "      <th>PRESSURE_MAX_MB</th>\n",
              "      <th>CLOUDCOVER_AVG_PERCENT</th>\n",
              "      <th>HEATINDEX_MAX_C</th>\n",
              "      <th>DEWPOINT_MAX_C</th>\n",
              "      <th>WINDTEMP_MAX_C</th>\n",
              "      <th>WEATHER_CODE_EVENING</th>\n",
              "      <th>TOTAL_SNOW_MM</th>\n",
              "      <th>UV_INDEX</th>\n",
              "      <th>SUNHOUR</th>\n",
              "      <th>OPINION</th>\n",
              "      <th>flag_predict</th>\n",
              "    </tr>\n",
              "  </thead>\n",
              "  <tbody>\n",
              "    <tr>\n",
              "      <th>0</th>\n",
              "      <td>2018-01-01</td>\n",
              "      <td>12</td>\n",
              "      <td>8</td>\n",
              "      <td>61</td>\n",
              "      <td>9</td>\n",
              "      <td>11</td>\n",
              "      <td>8</td>\n",
              "      <td>8.9</td>\n",
              "      <td>79</td>\n",
              "      <td>9.5</td>\n",
              "      <td>1018</td>\n",
              "      <td>41.750</td>\n",
              "      <td>12</td>\n",
              "      <td>8</td>\n",
              "      <td>7</td>\n",
              "      <td>113.0</td>\n",
              "      <td>0.0</td>\n",
              "      <td>3.0</td>\n",
              "      <td>5.1</td>\n",
              "      <td>bad</td>\n",
              "      <td>real value</td>\n",
              "    </tr>\n",
              "    <tr>\n",
              "      <th>1</th>\n",
              "      <td>2018-01-02</td>\n",
              "      <td>13</td>\n",
              "      <td>6</td>\n",
              "      <td>26</td>\n",
              "      <td>8</td>\n",
              "      <td>12</td>\n",
              "      <td>13</td>\n",
              "      <td>0.6</td>\n",
              "      <td>96</td>\n",
              "      <td>9.0</td>\n",
              "      <td>1020</td>\n",
              "      <td>87.875</td>\n",
              "      <td>13</td>\n",
              "      <td>12</td>\n",
              "      <td>6</td>\n",
              "      <td>122.0</td>\n",
              "      <td>0.0</td>\n",
              "      <td>3.0</td>\n",
              "      <td>3.3</td>\n",
              "      <td>bad</td>\n",
              "      <td>real value</td>\n",
              "    </tr>\n",
              "  </tbody>\n",
              "</table>\n",
              "</div>\n",
              "      <button class=\"colab-df-convert\" onclick=\"convertToInteractive('df-6f82defd-cf1b-4f12-b0a5-f898016df8f0')\"\n",
              "              title=\"Convert this dataframe to an interactive table.\"\n",
              "              style=\"display:none;\">\n",
              "        \n",
              "  <svg xmlns=\"http://www.w3.org/2000/svg\" height=\"24px\"viewBox=\"0 0 24 24\"\n",
              "       width=\"24px\">\n",
              "    <path d=\"M0 0h24v24H0V0z\" fill=\"none\"/>\n",
              "    <path d=\"M18.56 5.44l.94 2.06.94-2.06 2.06-.94-2.06-.94-.94-2.06-.94 2.06-2.06.94zm-11 1L8.5 8.5l.94-2.06 2.06-.94-2.06-.94L8.5 2.5l-.94 2.06-2.06.94zm10 10l.94 2.06.94-2.06 2.06-.94-2.06-.94-.94-2.06-.94 2.06-2.06.94z\"/><path d=\"M17.41 7.96l-1.37-1.37c-.4-.4-.92-.59-1.43-.59-.52 0-1.04.2-1.43.59L10.3 9.45l-7.72 7.72c-.78.78-.78 2.05 0 2.83L4 21.41c.39.39.9.59 1.41.59.51 0 1.02-.2 1.41-.59l7.78-7.78 2.81-2.81c.8-.78.8-2.07 0-2.86zM5.41 20L4 18.59l7.72-7.72 1.47 1.35L5.41 20z\"/>\n",
              "  </svg>\n",
              "      </button>\n",
              "      \n",
              "  <style>\n",
              "    .colab-df-container {\n",
              "      display:flex;\n",
              "      flex-wrap:wrap;\n",
              "      gap: 12px;\n",
              "    }\n",
              "\n",
              "    .colab-df-convert {\n",
              "      background-color: #E8F0FE;\n",
              "      border: none;\n",
              "      border-radius: 50%;\n",
              "      cursor: pointer;\n",
              "      display: none;\n",
              "      fill: #1967D2;\n",
              "      height: 32px;\n",
              "      padding: 0 0 0 0;\n",
              "      width: 32px;\n",
              "    }\n",
              "\n",
              "    .colab-df-convert:hover {\n",
              "      background-color: #E2EBFA;\n",
              "      box-shadow: 0px 1px 2px rgba(60, 64, 67, 0.3), 0px 1px 3px 1px rgba(60, 64, 67, 0.15);\n",
              "      fill: #174EA6;\n",
              "    }\n",
              "\n",
              "    [theme=dark] .colab-df-convert {\n",
              "      background-color: #3B4455;\n",
              "      fill: #D2E3FC;\n",
              "    }\n",
              "\n",
              "    [theme=dark] .colab-df-convert:hover {\n",
              "      background-color: #434B5C;\n",
              "      box-shadow: 0px 1px 3px 1px rgba(0, 0, 0, 0.15);\n",
              "      filter: drop-shadow(0px 1px 2px rgba(0, 0, 0, 0.3));\n",
              "      fill: #FFFFFF;\n",
              "    }\n",
              "  </style>\n",
              "\n",
              "      <script>\n",
              "        const buttonEl =\n",
              "          document.querySelector('#df-6f82defd-cf1b-4f12-b0a5-f898016df8f0 button.colab-df-convert');\n",
              "        buttonEl.style.display =\n",
              "          google.colab.kernel.accessAllowed ? 'block' : 'none';\n",
              "\n",
              "        async function convertToInteractive(key) {\n",
              "          const element = document.querySelector('#df-6f82defd-cf1b-4f12-b0a5-f898016df8f0');\n",
              "          const dataTable =\n",
              "            await google.colab.kernel.invokeFunction('convertToInteractive',\n",
              "                                                     [key], {});\n",
              "          if (!dataTable) return;\n",
              "\n",
              "          const docLinkHtml = 'Like what you see? Visit the ' +\n",
              "            '<a target=\"_blank\" href=https://colab.research.google.com/notebooks/data_table.ipynb>data table notebook</a>'\n",
              "            + ' to learn more about interactive tables.';\n",
              "          element.innerHTML = '';\n",
              "          dataTable['output_type'] = 'display_data';\n",
              "          await google.colab.output.renderOutput(dataTable, element);\n",
              "          const docLink = document.createElement('div');\n",
              "          docLink.innerHTML = docLinkHtml;\n",
              "          element.appendChild(docLink);\n",
              "        }\n",
              "      </script>\n",
              "    </div>\n",
              "  </div>\n",
              "  "
            ],
            "text/plain": [
              "         DATE  MAX_TEMPERATURE_C  ...  OPINION  flag_predict\n",
              "0  2018-01-01                 12  ...      bad    real value\n",
              "1  2018-01-02                 13  ...      bad    real value\n",
              "\n",
              "[2 rows x 21 columns]"
            ]
          },
          "metadata": {},
          "execution_count": 20
        }
      ]
    },
    {
      "cell_type": "code",
      "source": [
        "df2018complet.flag_predict.value_counts()"
      ],
      "metadata": {
        "colab": {
          "base_uri": "https://localhost:8080/"
        },
        "id": "xK7YuBk_jaIi",
        "outputId": "7ab16abd-1b93-4d00-9aaf-b5d005ed7785"
      },
      "execution_count": null,
      "outputs": [
        {
          "output_type": "execute_result",
          "data": {
            "text/plain": [
              "real value         341\n",
              "predicted value     24\n",
              "Name: flag_predict, dtype: int64"
            ]
          },
          "metadata": {},
          "execution_count": 21
        }
      ]
    },
    {
      "cell_type": "code",
      "source": [
        "# date setup\n",
        "df2018complet.DATE = pd.to_datetime(df2018complet.DATE)"
      ],
      "metadata": {
        "id": "zP7itbbnfvGt"
      },
      "execution_count": null,
      "outputs": []
    },
    {
      "cell_type": "code",
      "source": [
        "# Taille de l'affichage\n",
        "fig, ax = plt.subplots(figsize=(10,7))\n",
        "\n",
        "# ------------------ Scatter Plot ------------------#\n",
        "\n",
        "# Graphique nuage de points\n",
        "sns.scatterplot(data=df2018complet, \n",
        "                x=\"DATE\", \n",
        "                y=\"SUNHOUR\", \n",
        "                hue=\"flag_predict\"\n",
        "                ).set(\n",
        "                    xlabel = \"Date\", \n",
        "                    ylabel = \"Heures de soleil\",\n",
        "                    title = \"Vérification modèle de prédiction d'heures de soleil par jour\"\n",
        "                )\n",
        "\n",
        "\n",
        "# Afficher graph\n",
        "fig.show()"
      ],
      "metadata": {
        "colab": {
          "base_uri": "https://localhost:8080/",
          "height": 458
        },
        "id": "53YZlEq_gm4r",
        "outputId": "eca5bde0-bbb9-4254-f60e-bd359d249508"
      },
      "execution_count": null,
      "outputs": [
        {
          "output_type": "display_data",
          "data": {
            "image/png": "[encoded data removed]",
            "text/plain": [
              "<Figure size 720x504 with 1 Axes>"
            ]
          },
          "metadata": {
            "needs_background": "light"
          }
        }
      ]
    },
    {
      "cell_type": "code",
      "source": [
        ""
      ],
      "metadata": {
        "id": "oxRQJrRrjAf7"
      },
      "execution_count": null,
      "outputs": []
    }
  ]
}